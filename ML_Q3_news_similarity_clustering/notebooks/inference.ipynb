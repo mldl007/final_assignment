{
 "cells": [
  {
   "cell_type": "code",
   "execution_count": 1,
   "id": "734d390a-9fe9-4956-9a72-f1500f616214",
   "metadata": {},
   "outputs": [],
   "source": [
    "import os\n",
    "import numpy as np\n",
    "import pandas as pd\n",
    "import matplotlib.pyplot as plt\n",
    "import string\n",
    "import spacy\n",
    "from gensim.models import KeyedVectors\n",
    "from sklearn.feature_extraction.text import TfidfVectorizer\n",
    "from sklearn.cluster import KMeans\n",
    "from sklearn.preprocessing import MinMaxScaler, MaxAbsScaler\n",
    "from sklearn.metrics import silhouette_score\n",
    "import cloudpickle\n",
    "from sklearn.decomposition import PCA, TruncatedSVD\n",
    "from numpy.linalg import norm\n",
    "import warnings\n",
    "warnings.filterwarnings(\"ignore\")"
   ]
  },
  {
   "cell_type": "code",
   "execution_count": 2,
   "id": "30e8f14b-4b08-486a-ad09-50ad009e7a9b",
   "metadata": {},
   "outputs": [],
   "source": [
    "with open(os.path.join(\"..\", \"models\", \"preprocessor.bin\"), \"rb\") as file:\n",
    "    preprocessor = cloudpickle.load(file)\n",
    "\n",
    "with open(os.path.join(\"..\", \"models\", \"vectorizer.bin\"), \"rb\") as file:\n",
    "    vectorizer = cloudpickle.load(file)\n",
    "\n",
    "with open(os.path.join(\"..\", \"models\", \"pca.bin\"), \"rb\") as file:\n",
    "    pca = cloudpickle.load(file)\n",
    "\n",
    "with open(os.path.join(\"..\", \"models\", \"clustering.bin\"), \"rb\") as file:\n",
    "    clustering = cloudpickle.load(file)\n",
    "    \n",
    "pca_text = pd.read_parquet(os.path.join(\"..\", \"data\", \"pca_text.parquet\"))\n",
    "text_data = pd.read_parquet(os.path.join(\"..\", \"data\", \"text_data.parquet\"))"
   ]
  },
  {
   "cell_type": "code",
   "execution_count": 3,
   "id": "36fe8652-b2c9-4da2-b5bf-c8a005b9b1a9",
   "metadata": {},
   "outputs": [],
   "source": [
    "def cosine_similarity(a, b):\n",
    "    cos_sim = np.dot(a, b)/(norm(a)*norm(b))\n",
    "    return cos_sim"
   ]
  },
  {
   "cell_type": "code",
   "execution_count": 4,
   "id": "c8a678d0-c808-413c-9366-060979016359",
   "metadata": {},
   "outputs": [],
   "source": [
    "def inference(text: str):\n",
    "    text = pd.Series(text)\n",
    "    text = preprocessor.preprocess(text, dataset='test')\n",
    "    text = vectorizer.vectorize(text, dataset='test')\n",
    "    text = pca.reduce_dimensions(pd.DataFrame(text), dataset='test')\n",
    "    cluster = clustering.predict(pd.DataFrame(text))\n",
    "    \n",
    "    match_idx = text_data.loc[text_data['cluster'] == cluster[0]].index\n",
    "    # match_idx = range(len(pca_text))\n",
    "    \n",
    "    match_pca_txt = pca_text.loc[match_idx, :].reset_index(drop=True).copy()\n",
    "    match_txt = text_data.loc[match_idx, :].reset_index(drop=True).copy()\n",
    "    similarities = []\n",
    "    for i in range(len(match_pca_txt)):\n",
    "        similarities.append(cosine_similarity(match_pca_txt.iloc[i, :].values, text.ravel()))\n",
    "    \n",
    "    match_txt['similarity_score'] = similarities\n",
    "    match_txt.sort_values(by='similarity_score', ascending=False)\n",
    "    \n",
    "    return match_txt.iloc[:10, :]"
   ]
  },
  {
   "cell_type": "code",
   "execution_count": 5,
   "id": "7d166005-5fbf-4f09-8435-9002ccf94bdf",
   "metadata": {},
   "outputs": [
    {
     "data": {
      "text/plain": [
       "['Over 4 Million Americans Roll Up Sleeves For Omicron-Targeted COVID Boosters Health experts said it is too early to predict whether demand would match up with the 171 million doses of the new boosters the U.S. ordered for the fall.',\n",
       " 'Emmy Awards Viewership Dips To A Record-Low As Its Audience Continues To Drop The television awards ceremony lost roughly 1.5 million viewers compared to its 2021 program.',\n",
       " 'U.S. Inflation Falls For 2nd Straight Month On Lower Gas Costs On a monthly basis, prices rose 0.1%, after a flat reading in July.',\n",
       " \"Thousands Of Minnesota Nurses Launch 3-day Strike Over Pay They're pressing for salary increases they say will help improve patient care by resolving understaffing stresses that have worsened in the pandemic.\",\n",
       " \"The Unemployment Insurance System Is Not Ready For The Next Recession States are cutting back, and Congress is unlikely to step in even after the pandemic exposed the unemployment system's shortcomings.\",\n",
       " 'U.S. Hiring Slowed In August As Employers Add 315,000 Jobs The unemployment rate rose to 3.7%, from a half-century low of 3.5% in July, as more Americans came off the sidelines to look for jobs.',\n",
       " '6 Months Into War, Russian Goods Still Flowing To U.S. American companies — including federal contractors — continue to buy everything from birch wood flooring to weapons-grade titanium from Russian corporations.',\n",
       " \"Student Loan Borrowers Await Biden Plan On Debt Forgiveness If Biden's plan survives legal challenges that are almost certain to come, it could offer a windfall to a swath of the nation in the run-up to this fall's midterm elections.\",\n",
       " 'After Delay, Biden Readies Student Loan Help, Payment Pause The precise details of President Joe Biden’s plan were being kept to an unusually small circle within the Biden administration.',\n",
       " 'Gas Prices Are Falling, But Global Events Could Cause Increase, Energy Secretary Warns Jennifer Granholm said the U.S. will produce a record amount of oil next year.']"
      ]
     },
     "execution_count": 5,
     "metadata": {},
     "output_type": "execute_result"
    }
   ],
   "source": [
    "txt = '''\n",
    "Coronavirus cases in India: India witnessed a single-day rise of 906 new COVID-19 cases as the active cases declined to 10,179, according to Union Health Ministry data updated on Thursday. The toll has risen to 5,31,814 (5.31 lakh) with 20 deaths, including seven reconciled by Kerala, the data updated at 8 am stated. The daily positivity rate has been pegged at 0.70 per cent and the weekly rate at 0.90 per cent.\n",
    "\n",
    "The total tally of Covid cases was recorded at 4.49 crore (4,49,84,058). The active cases now comprise 0.02 per cent of the total infections while the national recovery rate has been recorded at 98.79 per cent, according to the website. The number of people who have recuperated rose to 4.44 crore (4,44,42,065) while the case fatality rate was recorded at 1.18 per cent.\n",
    "'''\n",
    "\n",
    "similar_news = inference(txt)\n",
    "(similar_news.loc[:, 'headline'] + \" \" + similar_news.loc[:, 'short_description']).tolist()"
   ]
  },
  {
   "cell_type": "code",
   "execution_count": null,
   "id": "bdbad469-d7ba-42f3-a6a2-274fd97f1cca",
   "metadata": {},
   "outputs": [],
   "source": []
  }
 ],
 "metadata": {
  "kernelspec": {
   "display_name": "Python 3 (ipykernel)",
   "language": "python",
   "name": "python3"
  },
  "language_info": {
   "codemirror_mode": {
    "name": "ipython",
    "version": 3
   },
   "file_extension": ".py",
   "mimetype": "text/x-python",
   "name": "python",
   "nbconvert_exporter": "python",
   "pygments_lexer": "ipython3",
   "version": "3.9.13"
  }
 },
 "nbformat": 4,
 "nbformat_minor": 5
}
