{
 "cells": [
  {
   "cell_type": "code",
   "execution_count": 8,
   "id": "ee480402-4f4e-406a-933b-51f52f075d3e",
   "metadata": {},
   "outputs": [],
   "source": [
    "import os\n",
    "import numpy as np\n",
    "import pandas as pd\n",
    "import matplotlib.pyplot as plt\n",
    "import string\n",
    "import spacy\n",
    "from gensim.models import KeyedVectors\n",
    "from sklearn.feature_extraction.text import TfidfVectorizer\n",
    "from sklearn.cluster import KMeans\n",
    "from sklearn.preprocessing import MinMaxScaler, MaxAbsScaler\n",
    "from sklearn.metrics import silhouette_score\n",
    "import cloudpickle\n",
    "from sklearn.decomposition import PCA, TruncatedSVD\n",
    "from numpy.linalg import norm\n",
    "import warnings\n",
    "warnings.filterwarnings(\"ignore\")"
   ]
  },
  {
   "cell_type": "code",
   "execution_count": null,
   "id": "10f5efa1-b3e8-42db-a9ee-0235c6d1a840",
   "metadata": {},
   "outputs": [],
   "source": [
    "# data = pd.read_json(os.path.join(\"..\", \"data\", \"News_Category_Dataset_v3.json\"), lines=True)"
   ]
  },
  {
   "cell_type": "code",
   "execution_count": null,
   "id": "f4bca9e9-5a59-4769-a159-7ef81a34d06e",
   "metadata": {},
   "outputs": [],
   "source": [
    "# data.to_parquet(os.path.join(\"..\", \"data\", \"text_data.parquet\"))"
   ]
  },
  {
   "cell_type": "code",
   "execution_count": null,
   "id": "772cbf12-21d4-4381-a13a-78a82954207a",
   "metadata": {},
   "outputs": [],
   "source": [
    "# data['description'] = data['headline'] + \" \" + data['short_description']"
   ]
  },
  {
   "cell_type": "code",
   "execution_count": null,
   "id": "77d80def-4cd9-4bbc-b8bb-28d29cba3ee2",
   "metadata": {},
   "outputs": [],
   "source": [
    "# data = data['description'].copy()"
   ]
  },
  {
   "cell_type": "code",
   "execution_count": null,
   "id": "87fb1993-1a39-41f4-83db-92597572ee41",
   "metadata": {},
   "outputs": [],
   "source": [
    "# data"
   ]
  },
  {
   "cell_type": "code",
   "execution_count": null,
   "id": "9ba1ab27-b57a-43bf-82a4-1208ac9e5217",
   "metadata": {},
   "outputs": [],
   "source": [
    "# data.to_csv(os.path.join(\"..\", \"data\", \"news_text.csv\"), index=False)"
   ]
  },
  {
   "cell_type": "code",
   "execution_count": null,
   "id": "99ac0786-bda3-4bd2-9922-3fc189a0aafe",
   "metadata": {},
   "outputs": [],
   "source": [
    "class TextPreprocessor:\n",
    "    def __init__(self, lemmatize: bool = True, remove_punct: bool = True, remove_digits: bool = True,\n",
    "                 remove_stop_words: bool = True,\n",
    "                 remove_short_words: bool = True, minlen: int = 1, maxlen: int = 1, top_p: float = None,\n",
    "                 bottom_p: float = None):\n",
    "        self.lemmatize = lemmatize\n",
    "        self.remove_punct = remove_punct\n",
    "        self.remove_digits = remove_digits\n",
    "        self.remove_stop_words = remove_stop_words\n",
    "        self.remove_short_words = remove_short_words\n",
    "        self.minlen = minlen\n",
    "        self.maxlen = maxlen\n",
    "        self.top_p = top_p\n",
    "        self.bottom_p = bottom_p\n",
    "        self.words_to_remove = []\n",
    "        self.stop_words = ['i', 'me', 'my', 'myself', 'we', 'our', 'ours', 'ourselves', 'you', \"you're\", \"you've\",\n",
    "                           \"you'll\", \"you'd\", 'your', 'yours', 'yourself', 'yourselves', 'he', 'him', 'his', 'himself',\n",
    "                           'she', \"she's\", 'her', 'hers', 'herself', 'it', \"it's\", 'its', 'itself', 'they', 'them',\n",
    "                           'their', 'theirs', 'themselves', 'what', 'which', 'who', 'whom', 'this', 'that', \"that'll\",\n",
    "                           'these', 'those', 'am', 'is', 'are', 'was', 'were', 'be', 'been', 'being', 'have', 'has',\n",
    "                           'had', 'having', 'do', 'does', 'did', 'doing', 'a', 'an', 'the', 'and', 'but', 'if', 'or',\n",
    "                           'because', 'as', 'until', 'while', 'of', 'at', 'by', 'for', 'with', 'about', 'against',\n",
    "                           'between', 'into', 'through', 'during', 'before', 'after', 'above', 'below', 'to', 'from',\n",
    "                           'up', 'down', 'in', 'out', 'on', 'off', 'over', 'under', 'again', 'further', 'then', 'once',\n",
    "                           'here', 'there', 'when', 'where', 'why', 'how', 'all', 'any', 'both', 'each', 'few', 'more',\n",
    "                           'most', 'other', 'some', 'such', 'no', 'nor', 'not', 'only', 'own', 'same', 'so', 'than',\n",
    "                           'too', 'very', 's', 't', 'can', 'will', 'just', 'don', \"don't\", 'should', \"should've\",\n",
    "                           'now', 'd', 'll', 'm', 'o', 're', 've', 'y', 'ain', 'aren', \"aren't\", 'couldn', \"couldn't\",\n",
    "                           'didn', \"didn't\", 'doesn', \"doesn't\", 'hadn', \"hadn't\", 'hasn', \"hasn't\", 'haven',\n",
    "                           \"haven't\", 'isn', \"isn't\", 'ma', 'mightn', \"mightn't\", 'mustn', \"mustn't\", 'needn',\n",
    "                           \"needn't\", 'shan', \"shan't\", 'shouldn', \"shouldn't\", 'wasn', \"wasn't\", 'weren', \"weren't\",\n",
    "                           'won', \"won't\", 'wouldn', \"wouldn't\"]\n",
    "\n",
    "    @staticmethod\n",
    "    def __remove_double_whitespaces(string: str):\n",
    "        return \" \".join(string.split())\n",
    "\n",
    "    @staticmethod\n",
    "    def __lemmatize(string_series: pd.Series):\n",
    "        nlp = spacy.load(os.path.join(\"..\", \"en_core_web_sm-3.4.1\"))\n",
    "\n",
    "        def str_lemmatize(string: str):\n",
    "            doc = nlp(string)\n",
    "            return \" \".join([token.lemma_ for token in doc])\n",
    "\n",
    "        return string_series.map(str_lemmatize)\n",
    "\n",
    "    def __remove_punct(self, string_series: pd.Series):\n",
    "        clean_string_series = string_series.str.replace(pat=f'[{string.punctuation}]', repl=\" \", regex=True).copy()\n",
    "        return clean_string_series.map(self.__remove_double_whitespaces)\n",
    "\n",
    "    def __remove_digits(self, string_series: pd.Series):\n",
    "        clean_string_series = string_series.str.replace(pat=r'\\d', repl=\" \", regex=True).copy()\n",
    "        return clean_string_series.map(self.__remove_double_whitespaces)\n",
    "\n",
    "    @staticmethod\n",
    "    def __remove_short_words(string_series: pd.Series, minlen: int = 1, maxlen: int = 1):\n",
    "        clean_string_series = string_series.map(lambda string: \" \".join([word for word in string.split() if\n",
    "                                                                         (len(word) > maxlen) or (len(word) < minlen)]))\n",
    "        return clean_string_series\n",
    "\n",
    "    def __remove_stop_words(self, string_series: pd.Series):\n",
    "        def str_remove_stop_words(string: str):\n",
    "            stops = self.stop_words\n",
    "            return \" \".join([token for token in string.split() if token not in stops])\n",
    "\n",
    "        return string_series.map(str_remove_stop_words)\n",
    "\n",
    "    def __remove_top_bottom_words(self, string_series: pd.Series, top_p: int = None,\n",
    "                                  bottom_p: int = None, dataset: str = 'train'):\n",
    "        if dataset == 'train':\n",
    "            if top_p is None:\n",
    "                top_p = 0\n",
    "            if bottom_p is None:\n",
    "                bottom_p = 0\n",
    "\n",
    "            if top_p > 0 or bottom_p > 0:\n",
    "                word_freq = pd.Series(\" \".join(string_series).split()).value_counts()\n",
    "                n_words = len(word_freq)\n",
    "\n",
    "            if top_p > 0:\n",
    "                self.words_to_remove.extend([*word_freq.index[: int(np.ceil(top_p * n_words))]])\n",
    "\n",
    "            if bottom_p > 0:\n",
    "                self.words_to_remove.extend([*word_freq.index[-int(np.ceil(bottom_p * n_words)):]])\n",
    "\n",
    "        if len(self.words_to_remove) == 0:\n",
    "            return string_series\n",
    "        else:\n",
    "            clean_string_series = string_series.map(lambda string: \" \".join([word for word in string.split()\n",
    "                                                                             if word not in self.words_to_remove]))\n",
    "            return clean_string_series\n",
    "\n",
    "    def preprocess(self, string_series: pd.Series, dataset: str = \"train\"):\n",
    "        string_series = string_series.str.lower().copy()\n",
    "        if self.lemmatize:\n",
    "            string_series = self.__lemmatize(string_series=string_series)\n",
    "        if self.remove_punct:\n",
    "            string_series = self.__remove_punct(string_series=string_series)\n",
    "        if self.remove_digits:\n",
    "            string_series = self.__remove_digits(string_series=string_series)\n",
    "        if self.remove_stop_words:\n",
    "            string_series = self.__remove_stop_words(string_series=string_series)\n",
    "        if self.remove_short_words:\n",
    "            string_series = self.__remove_short_words(string_series=string_series,\n",
    "                                                      minlen=self.minlen,\n",
    "                                                      maxlen=self.maxlen)\n",
    "        string_series = self.__remove_top_bottom_words(string_series=string_series,\n",
    "                                                       top_p=self.top_p,\n",
    "                                                       bottom_p=self.bottom_p, dataset=dataset)\n",
    "\n",
    "        string_series = string_series.str.strip().copy()\n",
    "        string_series.replace(to_replace=\"\", value=\"this is an empty message\", inplace=True)\n",
    "\n",
    "        return string_series"
   ]
  },
  {
   "cell_type": "code",
   "execution_count": null,
   "id": "28cd8416-6b85-4a2c-8900-96eac5826528",
   "metadata": {},
   "outputs": [],
   "source": [
    "class TextVectorizer:\n",
    "    def __init__(self, use_w2v: bool = True):\n",
    "        self.use_w2v = use_w2v\n",
    "        self.tfidf = None\n",
    "\n",
    "    @staticmethod\n",
    "    def __get_doc2vec(x: pd.Series):\n",
    "        google_w2v = KeyedVectors.load(os.path.join(\"..\", \"google_word2vec\", \"google_w2v_100k.bin\"),\n",
    "                                       mmap='r')\n",
    "        corpus_w2v = []\n",
    "        for doc in x:\n",
    "            doc_w2v = []\n",
    "            for token in doc.split():\n",
    "                try:\n",
    "                    doc_w2v.append(list(google_w2v[token]))\n",
    "                except:\n",
    "                    pass\n",
    "            if len(doc_w2v) != 0:\n",
    "                doc_w2v = np.array(doc_w2v)\n",
    "                if doc_w2v.ndim == 1:\n",
    "                    corpus_w2v.append(doc_w2v)\n",
    "                else:\n",
    "                    corpus_w2v.append(doc_w2v.mean(axis=0))\n",
    "            else:\n",
    "                corpus_w2v.append(np.array([0] * 300))\n",
    "        return np.array(corpus_w2v)\n",
    "\n",
    "    def vectorize(self, x: pd.Series, dataset: str = \"train\"):\n",
    "        x = x.copy()\n",
    "        if not self.use_w2v:\n",
    "            if dataset == \"train\":\n",
    "                self.tfidf = TfidfVectorizer()\n",
    "                self.tfidf.fit(x)\n",
    "            x = self.tfidf.transform(x).copy()\n",
    "        else:\n",
    "            x = self.__get_doc2vec(x).copy()\n",
    "        return x\n"
   ]
  },
  {
   "cell_type": "code",
   "execution_count": null,
   "id": "f06deef0-4da6-4fa5-a397-6375c250cc0a",
   "metadata": {},
   "outputs": [],
   "source": [
    "class DimensionalityReduction:\n",
    "    def __init__(self, n_components: int):\n",
    "        self.n_components = n_components\n",
    "        self.pca = None\n",
    "        self.tsvd = None\n",
    "        self.minmax = None\n",
    "        self.maxabs = None\n",
    "\n",
    "    def reduce_dimensions(self, x, dataset: str = \"train\"):\n",
    "        x = x.copy()\n",
    "        if not isinstance(x, pd.DataFrame) and not isinstance(x, np.ndarray):\n",
    "            if dataset == \"train\":\n",
    "                self.maxabs = MaxAbsScaler()\n",
    "                self.maxabs.fit(x)\n",
    "                x = self.maxabs.transform(x).copy()\n",
    "                self.tsvd = TruncatedSVD(n_components=self.n_components, random_state=42)\n",
    "                self.tsvd.fit(x)\n",
    "            if dataset != \"train\":\n",
    "                x = self.maxabs.transform(x).copy()\n",
    "            x = self.tsvd.transform(x).copy()\n",
    "        else:\n",
    "            if dataset == \"train\":\n",
    "                self.minmax = MinMaxScaler()\n",
    "                self.minmax.fit(x)\n",
    "                x = self.minmax.transform(x).copy()\n",
    "                self.pca = PCA(n_components=self.n_components, random_state=42)\n",
    "                self.pca.fit(x)\n",
    "            if dataset != \"train\":\n",
    "                x = self.minmax.transform(x).copy()\n",
    "            x = self.pca.transform(x).copy()\n",
    "        return x"
   ]
  },
  {
   "cell_type": "code",
   "execution_count": null,
   "id": "e3834cdc-0877-4f21-b03e-8fd0539f4e9f",
   "metadata": {},
   "outputs": [],
   "source": [
    "class Cluster():\n",
    "    def __init__(self, min_cluster:int = 2, max_cluster:int = 10, random_state:int = 42):\n",
    "        self.scaler = None\n",
    "        self.k = None\n",
    "        self.min_cluster = min_cluster\n",
    "        self.max_cluster = max_cluster\n",
    "        self.kmeans_model = None\n",
    "        self.random_state = random_state\n",
    "        \n",
    "    def __fit_scaler(self, X):\n",
    "        self.scaler = MinMaxScaler()\n",
    "        self.scaler.fit(X)\n",
    "        \n",
    "    def __find_best_k(self, X):\n",
    "        self.__fit_scaler(X)\n",
    "        X_scaled = self.scaler.transform(X)\n",
    "        silhouette_scores = []\n",
    "        for k in range(self.min_cluster, self.max_cluster + 1):\n",
    "            kmeans = KMeans(n_clusters=k, random_state=self.random_state)\n",
    "            kmeans.fit(X_scaled)\n",
    "            labels = kmeans.labels_\n",
    "            silhouette_scores.append(silhouette_score(X=X_scaled, labels=labels, random_state=self.random_state))\n",
    "        self.k = self.min_cluster + np.argmax(silhouette_scores)\n",
    "        \n",
    "    def fit(self, X):\n",
    "        self.__find_best_k(X)\n",
    "        self.kmeans_model = KMeans(n_clusters=self.k, random_state=self.random_state)\n",
    "        X_scaled = self.scaler.transform(X)\n",
    "        self.kmeans_model.fit(X_scaled)\n",
    "        \n",
    "        \n",
    "    def predict(self, X):\n",
    "        X_scaled = self.scaler.transform(X)\n",
    "        prediction = self.kmeans_model.predict(X_scaled)\n",
    "        return prediction\n",
    "    \n",
    "    def fit_predict(self, X):\n",
    "        self.fit(X)\n",
    "        self.predict(X)"
   ]
  },
  {
   "cell_type": "code",
   "execution_count": null,
   "id": "0baf691b-d816-4696-9ade-e14f9c8b829b",
   "metadata": {},
   "outputs": [],
   "source": [
    "# text_preprocess = TextPreprocessor(lemmatize=True)\n",
    "# preprocessed_text = text_preprocess.preprocess(data)\n",
    "# preprocessed_text.to_csv(os.path.join(\"..\", \"data\", \"preprocessed_text.csv\"), index=False)\n",
    "# with open(os.path.join(\"..\", \"models\", \"preprocessor.bin\"), \"wb\") as file:\n",
    "    # cloudpickle.dump(text_preprocess, file)"
   ]
  },
  {
   "cell_type": "code",
   "execution_count": null,
   "id": "b1d125de-6c34-402e-bc75-9bcaec949883",
   "metadata": {},
   "outputs": [],
   "source": [
    "# preprocessed_text = pd.read_csv(os.path.join(\"..\", \"data\", \"preprocessed_text.csv\")).squeeze(\"columns\")\n",
    "# preprocessed_text"
   ]
  },
  {
   "cell_type": "code",
   "execution_count": null,
   "id": "cc67982f-8d38-444b-895a-239e321b2e3a",
   "metadata": {},
   "outputs": [],
   "source": [
    "# vectorizer = TextVectorizer()\n",
    "# vectorized_text = vectorizer.vectorize(preprocessed_text)\n",
    "# pd.DataFrame(vectorized_text).to_csv(os.path.join(\"..\", \"data\", \"vectorized_text.csv\"), index=False)\n",
    "# with open(os.path.join(\"..\", \"models\", \"vectorizer.bin\"), \"wb\") as file:\n",
    "    # cloudpickle.dump(vectorizer, file)"
   ]
  },
  {
   "cell_type": "code",
   "execution_count": null,
   "id": "1a4b1953-bc5a-439d-b572-239bb377355f",
   "metadata": {},
   "outputs": [],
   "source": [
    "# vectorized_text = pd.read_csv(os.path.join(\"..\", \"data\", \"vectorized_text.csv\"))\n",
    "# vectorized_text.head()"
   ]
  },
  {
   "cell_type": "code",
   "execution_count": null,
   "id": "d07aac98-1ca9-4886-bd27-1d6b08a3ab12",
   "metadata": {},
   "outputs": [],
   "source": [
    "# dimensionality_reductionensionality_reduction = DimensionalityReduction(n_components=220)\n",
    "# pca_text = dimensionality_reduction.reduce_dimensions(vectorized_text)\n",
    "# plt.plot(np.cumsum(dimensionality_reduction.pca.explained_variance_ratio_))"
   ]
  },
  {
   "cell_type": "code",
   "execution_count": null,
   "id": "bf147e20-5485-49a3-b681-a382aa494137",
   "metadata": {},
   "outputs": [],
   "source": [
    "# np.cumsum(dimensionality_reduction.pca.explained_variance_ratio_)[-1] # explained variance ratio of 93.5"
   ]
  },
  {
   "cell_type": "code",
   "execution_count": null,
   "id": "bbbfb8b0-b82e-4b1c-a0a0-af782663f31a",
   "metadata": {},
   "outputs": [],
   "source": [
    "# pd.DataFrame(pca_text).to_csv(os.path.join(\"..\", \"data\", \"pca_text.csv\"), index=False)\n",
    "# with open(os.path.join(\"..\", \"models\", \"pca.bin\"), \"wb\") as file:\n",
    "#     cloudpickle.dump(dimensionality_reduction, file)"
   ]
  },
  {
   "cell_type": "code",
   "execution_count": null,
   "id": "96001d97-d90a-41af-b16b-3b9660cbfaa8",
   "metadata": {},
   "outputs": [],
   "source": [
    "# pca_text = pd.read_parquet(os.path.join(\"..\", \"data\", \"pca_text.parquet\"))"
   ]
  },
  {
   "cell_type": "code",
   "execution_count": null,
   "id": "99a8db52-0592-43a2-9333-66b16aaf187c",
   "metadata": {},
   "outputs": [],
   "source": [
    "# cluster = Cluster(min_cluster=42, max_cluster=42)\n",
    "# cluster.fit(pca_text)"
   ]
  },
  {
   "cell_type": "code",
   "execution_count": null,
   "id": "fa4500c0-7f85-4118-aa55-a70f10ada302",
   "metadata": {},
   "outputs": [],
   "source": [
    "# with open(os.path.join(\"..\", \"models\", \"clustering.bin\"), \"wb\") as file:\n",
    "#     cloudpickle.dump(cluster, file)"
   ]
  },
  {
   "cell_type": "code",
   "execution_count": null,
   "id": "fc69d182-c8b1-4285-bab4-9bdd880fb29d",
   "metadata": {},
   "outputs": [],
   "source": [
    "# clusters = cluster.predict(pca_text)\n",
    "# len(clusters), len(pca_text)"
   ]
  },
  {
   "cell_type": "code",
   "execution_count": null,
   "id": "97fd5ef6-8b4e-438c-9af3-01b43ece402f",
   "metadata": {},
   "outputs": [],
   "source": [
    "# len(set(clusters))"
   ]
  },
  {
   "cell_type": "code",
   "execution_count": null,
   "id": "0135d002-c33c-4809-9591-2b27f4b84141",
   "metadata": {},
   "outputs": [],
   "source": [
    "# pd.Series(clusters).sort_values().unique()"
   ]
  },
  {
   "cell_type": "code",
   "execution_count": null,
   "id": "6264cbd0-393b-486d-b4f1-2222d3733c83",
   "metadata": {},
   "outputs": [],
   "source": [
    "# text_data = pd.read_parquet(os.path.join(\"..\", \"data\", \"text_data.parquet\"))"
   ]
  },
  {
   "cell_type": "code",
   "execution_count": null,
   "id": "bf65a763-3659-4c60-b55f-d8480d6c64f4",
   "metadata": {},
   "outputs": [],
   "source": [
    "# len(text_data)"
   ]
  },
  {
   "cell_type": "code",
   "execution_count": null,
   "id": "3dba3801-a29a-475f-82ce-1cd3c8b2e851",
   "metadata": {},
   "outputs": [],
   "source": [
    "# text_data['cluster'] = clusters"
   ]
  },
  {
   "cell_type": "code",
   "execution_count": null,
   "id": "5a84d1b1-af8b-4080-a6e7-4cd2b7f8b9b9",
   "metadata": {},
   "outputs": [],
   "source": [
    "# len(clusters)"
   ]
  },
  {
   "cell_type": "code",
   "execution_count": null,
   "id": "d4d21231-4781-4cc0-a6c0-8ff9029b3bcc",
   "metadata": {},
   "outputs": [],
   "source": [
    "# clusters"
   ]
  },
  {
   "cell_type": "code",
   "execution_count": null,
   "id": "931b8729-eba7-4b63-a9aa-6fbe27bd74b4",
   "metadata": {},
   "outputs": [],
   "source": [
    "# text_data.to_parquet(os.path.join(\"..\", \"data\", \"text_data.parquet\"))"
   ]
  },
  {
   "cell_type": "code",
   "execution_count": null,
   "id": "6801976d-597d-4d08-95e1-d1e76bdcec36",
   "metadata": {},
   "outputs": [],
   "source": [
    "# text_data['cluster'].unique()"
   ]
  },
  {
   "cell_type": "code",
   "execution_count": null,
   "id": "c045db11-4016-4025-9827-0cdde88bdfd7",
   "metadata": {},
   "outputs": [],
   "source": [
    "# text_data.loc[text_data['cluster'] == 1]"
   ]
  }
 ],
 "metadata": {
  "kernelspec": {
   "display_name": "Python 3 (ipykernel)",
   "language": "python",
   "name": "python3"
  },
  "language_info": {
   "codemirror_mode": {
    "name": "ipython",
    "version": 3
   },
   "file_extension": ".py",
   "mimetype": "text/x-python",
   "name": "python",
   "nbconvert_exporter": "python",
   "pygments_lexer": "ipython3",
   "version": "3.9.13"
  }
 },
 "nbformat": 4,
 "nbformat_minor": 5
}
