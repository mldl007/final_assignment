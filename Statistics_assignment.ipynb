{
 "cells": [
  {
   "cell_type": "markdown",
   "id": "0e46d917-14b5-47cc-922a-76f511b4827b",
   "metadata": {},
   "source": [
    "<h4>Q-1. A university wants to understand the relationship between the SAT scores of its\n",
    "applicants and their college GPA. They collect data on 500 students, including their SAT\n",
    "scores (out of 1600) and their college GPA (on a 4.0 scale). They find that the correlation\n",
    "coefficient between SAT scores and college GPA is 0.7. What does this correlation\n",
    "coefficient indicate about the relationship between SAT scores and college GPA?"
   ]
  },
  {
   "cell_type": "markdown",
   "id": "c74861ac-8c53-40f3-98cd-d04a3d7f9d50",
   "metadata": {},
   "source": [
    "Ans: SAT scores and college GPA are strongly correlated (considering anything above 0.7 to be strong correlation)"
   ]
  },
  {
   "cell_type": "markdown",
   "id": "8f509efe-7306-41a9-9e36-278c0636bf1a",
   "metadata": {},
   "source": [
    "<h4>Q-2. Consider a dataset containing the heights (in centimeters) of 1000 individuals. The\n",
    "mean height is 170 cm with a standard deviation of 10 cm. The dataset is approximately\n",
    "normally distributed, and its skewness is approximately zero. Based on this information,\n",
    "answer the following questions:"
   ]
  },
  {
   "cell_type": "code",
   "execution_count": 24,
   "id": "2e8fbc98-6c8b-481f-882d-c1f69c47616b",
   "metadata": {},
   "outputs": [],
   "source": [
    "from scipy.stats import norm\n",
    "import numpy as np\n",
    "\n",
    "def z_score(x, mean, std, n):\n",
    "    z = (x-mean)/(std/np.sqrt(n))\n",
    "    return z\n",
    "\n",
    "def p_value(x, mean, std, n):\n",
    "    z = z_score(x, mean, std, n)\n",
    "    p_value = norm.cdf(z)\n",
    "    return p_value"
   ]
  },
  {
   "cell_type": "markdown",
   "id": "4ca8ab67-e0ef-4238-8809-e42f975a9a3e",
   "metadata": {},
   "source": [
    "a. What percentage of individuals in the dataset have heights between 160 cm\n",
    "and 180 cm?"
   ]
  },
  {
   "cell_type": "markdown",
   "id": "67f1ad1b-bfaa-4bef-a38b-3c7dcc8e3e10",
   "metadata": {},
   "source": [
    "z_180 = p_value(180, 170, 10, 1000)\n",
    "z_160 = p_value(160, 170, 10, 1000)\n",
    "ans = z_180 - z_160\n",
    "print(ans)"
   ]
  },
  {
   "cell_type": "markdown",
   "id": "03d4ef28-a672-4c2d-a905-d7884803638d",
   "metadata": {},
   "source": [
    "Ans: 100%"
   ]
  },
  {
   "cell_type": "markdown",
   "id": "7c877a61-6fcf-4971-8433-764bccf382bb",
   "metadata": {},
   "source": [
    "b. If we randomly select 100 individuals from the dataset, what is the probability\n",
    "that their average height is greater than 175 cm?"
   ]
  },
  {
   "cell_type": "code",
   "execution_count": 26,
   "id": "a7565bbd-14ba-4051-bb82-ea864171d6f9",
   "metadata": {},
   "outputs": [
    {
     "name": "stdout",
     "output_type": "stream",
     "text": [
      "2.866515719235352e-07\n"
     ]
    }
   ],
   "source": [
    "z_175 = p_value(175, 170, 10, 100)\n",
    "print(1 - z_175)"
   ]
  },
  {
   "cell_type": "markdown",
   "id": "ffdcf4eb-a474-4f71-b8a0-aaf1a96a0a8f",
   "metadata": {},
   "source": [
    "Ans: 0"
   ]
  },
  {
   "cell_type": "markdown",
   "id": "a4cf118b-178f-4a4c-a1be-9b971276d45a",
   "metadata": {},
   "source": [
    "c. Assuming the dataset follows a normal distribution, what is the z-score\n",
    "corresponding to a height of 185 cm?"
   ]
  },
  {
   "cell_type": "code",
   "execution_count": 27,
   "id": "cf9b21b6-e562-495c-b6b9-9f850330e190",
   "metadata": {},
   "outputs": [
    {
     "name": "stdout",
     "output_type": "stream",
     "text": [
      "47.43416490252569\n"
     ]
    }
   ],
   "source": [
    "print(z_score(185, 170, 10, 1000))"
   ]
  },
  {
   "cell_type": "markdown",
   "id": "878aee75-7c7b-4e8e-9061-ab080baf64dd",
   "metadata": {},
   "source": [
    "Ans: 47.43416490252569"
   ]
  },
  {
   "cell_type": "markdown",
   "id": "5066f742-4ced-4da4-9c46-073704302a76",
   "metadata": {},
   "source": [
    "d. We know that 5% of the dataset has heights below a certain value. What is\n",
    "the approximate height corresponding to this threshold?"
   ]
  },
  {
   "cell_type": "code",
   "execution_count": 31,
   "id": "ce31fb6e-4dc2-4878-b895-0349ba36019e",
   "metadata": {},
   "outputs": [
    {
     "data": {
      "text/plain": [
       "-1.6448536269514729"
      ]
     },
     "execution_count": 31,
     "metadata": {},
     "output_type": "execute_result"
    }
   ],
   "source": [
    "norm.ppf(.05)"
   ]
  },
  {
   "cell_type": "markdown",
   "id": "47c09d1f-84b2-4dd5-be26-b2f660a51152",
   "metadata": {},
   "source": [
    "Ans: -1.6448536269514729"
   ]
  },
  {
   "cell_type": "markdown",
   "id": "02072f66-5cfc-4219-b917-5cf48b6ad4f5",
   "metadata": {},
   "source": [
    "e. Calculate the coefficient of variation (CV) for the dataset."
   ]
  },
  {
   "cell_type": "code",
   "execution_count": 33,
   "id": "01f21eff-27de-45ef-b7bf-93ebe2e1e61c",
   "metadata": {},
   "outputs": [
    {
     "name": "stdout",
     "output_type": "stream",
     "text": [
      "0.058823529411764705\n"
     ]
    }
   ],
   "source": [
    "cv = 10 / 170\n",
    "print(cv)"
   ]
  },
  {
   "cell_type": "markdown",
   "id": "5384cafa-da47-4338-9579-9ddd789c38ff",
   "metadata": {},
   "source": [
    "Ans: 0.058823529411764705"
   ]
  },
  {
   "cell_type": "markdown",
   "id": "9367c04a-a8fb-41c1-b430-b404712c7c15",
   "metadata": {},
   "source": [
    "f. Calculate the skewness of the dataset and interpret the result."
   ]
  },
  {
   "cell_type": "markdown",
   "id": "7629d6eb-777a-4688-8ac8-b669fd6538bd",
   "metadata": {},
   "source": [
    "Since it's given that data is normally distributed and mean is 170. It's assumed median also to be 170. So skewness is 0"
   ]
  },
  {
   "cell_type": "markdown",
   "id": "d029aa66-bd1c-4a08-a2e1-4662dea5f160",
   "metadata": {},
   "source": [
    "<h4>Q-3. Consider the ‘Blood Pressure Before’ and ‘Blood Pressure After’ columns from the\n",
    "data and calculate the following"
   ]
  },
  {
   "cell_type": "code",
   "execution_count": 39,
   "id": "15dca87b-00e8-4c45-b7e2-1eb830adc7de",
   "metadata": {},
   "outputs": [
    {
     "data": {
      "text/html": [
       "<div>\n",
       "<style scoped>\n",
       "    .dataframe tbody tr th:only-of-type {\n",
       "        vertical-align: middle;\n",
       "    }\n",
       "\n",
       "    .dataframe tbody tr th {\n",
       "        vertical-align: top;\n",
       "    }\n",
       "\n",
       "    .dataframe thead th {\n",
       "        text-align: right;\n",
       "    }\n",
       "</style>\n",
       "<table border=\"1\" class=\"dataframe\">\n",
       "  <thead>\n",
       "    <tr style=\"text-align: right;\">\n",
       "      <th></th>\n",
       "      <th>Patient ID</th>\n",
       "      <th>Blood Pressure Before (mmHg)</th>\n",
       "      <th>Blood Pressure After (mmHg)</th>\n",
       "    </tr>\n",
       "  </thead>\n",
       "  <tbody>\n",
       "    <tr>\n",
       "      <th>0</th>\n",
       "      <td>1</td>\n",
       "      <td>130</td>\n",
       "      <td>120</td>\n",
       "    </tr>\n",
       "    <tr>\n",
       "      <th>1</th>\n",
       "      <td>2</td>\n",
       "      <td>142</td>\n",
       "      <td>135</td>\n",
       "    </tr>\n",
       "    <tr>\n",
       "      <th>2</th>\n",
       "      <td>3</td>\n",
       "      <td>120</td>\n",
       "      <td>118</td>\n",
       "    </tr>\n",
       "    <tr>\n",
       "      <th>3</th>\n",
       "      <td>4</td>\n",
       "      <td>135</td>\n",
       "      <td>127</td>\n",
       "    </tr>\n",
       "    <tr>\n",
       "      <th>4</th>\n",
       "      <td>5</td>\n",
       "      <td>148</td>\n",
       "      <td>140</td>\n",
       "    </tr>\n",
       "    <tr>\n",
       "      <th>...</th>\n",
       "      <td>...</td>\n",
       "      <td>...</td>\n",
       "      <td>...</td>\n",
       "    </tr>\n",
       "    <tr>\n",
       "      <th>95</th>\n",
       "      <td>96</td>\n",
       "      <td>136</td>\n",
       "      <td>129</td>\n",
       "    </tr>\n",
       "    <tr>\n",
       "      <th>96</th>\n",
       "      <td>97</td>\n",
       "      <td>143</td>\n",
       "      <td>137</td>\n",
       "    </tr>\n",
       "    <tr>\n",
       "      <th>97</th>\n",
       "      <td>98</td>\n",
       "      <td>127</td>\n",
       "      <td>123</td>\n",
       "    </tr>\n",
       "    <tr>\n",
       "      <th>98</th>\n",
       "      <td>99</td>\n",
       "      <td>139</td>\n",
       "      <td>135</td>\n",
       "    </tr>\n",
       "    <tr>\n",
       "      <th>99</th>\n",
       "      <td>100</td>\n",
       "      <td>135</td>\n",
       "      <td>130</td>\n",
       "    </tr>\n",
       "  </tbody>\n",
       "</table>\n",
       "<p>100 rows × 3 columns</p>\n",
       "</div>"
      ],
      "text/plain": [
       "    Patient ID   Blood Pressure Before (mmHg)   Blood Pressure After (mmHg)\n",
       "0            1                            130                           120\n",
       "1            2                            142                           135\n",
       "2            3                            120                           118\n",
       "3            4                            135                           127\n",
       "4            5                            148                           140\n",
       "..         ...                            ...                           ...\n",
       "95          96                            136                           129\n",
       "96          97                            143                           137\n",
       "97          98                            127                           123\n",
       "98          99                            139                           135\n",
       "99         100                            135                           130\n",
       "\n",
       "[100 rows x 3 columns]"
      ]
     },
     "execution_count": 39,
     "metadata": {},
     "output_type": "execute_result"
    }
   ],
   "source": [
    "import pandas as pd\n",
    "data = pd.read_csv('data.csv')\n",
    "data"
   ]
  },
  {
   "cell_type": "markdown",
   "id": "f0b60aeb-2127-4218-a2c9-e7f7bd0c3dd7",
   "metadata": {},
   "source": [
    "a. Measure the dispersion in both and interpret the results."
   ]
  },
  {
   "cell_type": "code",
   "execution_count": 38,
   "id": "8e01915d-f644-45cf-86a3-8c560d3453e7",
   "metadata": {},
   "outputs": [
    {
     "name": "stdout",
     "output_type": "stream",
     "text": [
      "SD of Blood Pressure Before: 6.598278012275075\n",
      "SD of Blood Pressure After: 6.8880221025232276\n"
     ]
    }
   ],
   "source": [
    "print(f'SD of Blood Pressure Before: {data.iloc[:, 1].std()}')\n",
    "print(f'SD of Blood Pressure After: {data.iloc[:, 2].std()}')"
   ]
  },
  {
   "cell_type": "markdown",
   "id": "cc19f64b-19a7-4fb6-ba2d-29cc3eb2ca09",
   "metadata": {},
   "source": [
    "Both the samples have almost the same amount of dispersion"
   ]
  },
  {
   "cell_type": "markdown",
   "id": "76ecc65c-7d6a-467a-9d7e-607ece8ba542",
   "metadata": {},
   "source": [
    "b. Calculate mean and 5% confidence interval and plot it in a graph"
   ]
  },
  {
   "cell_type": "code",
   "execution_count": 44,
   "id": "e70df7e7-e586-490e-977b-02d7a50b7aab",
   "metadata": {},
   "outputs": [
    {
     "name": "stdout",
     "output_type": "stream",
     "text": [
      "95% confidence interval of Blood Pressure Before: (121.04243714048087, 146.77756285951912)\n",
      "95% confidence interval of Blood Pressure After: (114.92739573308545, 141.79260426691457)\n"
     ]
    }
   ],
   "source": [
    "def conf_interval(x, conf=0.95):\n",
    "    mean = np.mean(x)\n",
    "    sd = np.std(x)\n",
    "    return norm.interval(conf, loc=mean, scale=sd)\n",
    "\n",
    "print(f\"95% confidence interval of Blood Pressure Before: {conf_interval(data.iloc[:, 1])}\")\n",
    "print(f\"95% confidence interval of Blood Pressure After: {conf_interval(data.iloc[:, 2])}\")"
   ]
  },
  {
   "cell_type": "markdown",
   "id": "0ecd0111-56fc-4e6a-97d9-270a63e7fbe5",
   "metadata": {},
   "source": [
    "c. Calculate the Mean absolute deviation and Standard deviation and interpret\n",
    "the results."
   ]
  },
  {
   "cell_type": "markdown",
   "id": "cdefa646-64ec-4913-858c-2886c4ee411b",
   "metadata": {},
   "source": [
    "print(f\"MAD of Blood Pressure Before: {data.iloc[:, 1].mad()}\")\n",
    "print(f\"MAD of Blood Pressure After: {data.iloc[:, 2].mad()}\")"
   ]
  },
  {
   "cell_type": "markdown",
   "id": "1af6c2e8-49de-4d19-87f5-905cd0b3edc5",
   "metadata": {},
   "source": [
    "Both the samples have almost the same amount of MAD"
   ]
  },
  {
   "cell_type": "markdown",
   "id": "71dca7ed-cee8-429f-acaf-51ce56a69ee5",
   "metadata": {},
   "source": [
    "d. Calculate the correlation coefficient and check the significance of it at 1% level\n",
    "of significance."
   ]
  },
  {
   "cell_type": "code",
   "execution_count": 48,
   "id": "2deed7ef-f12d-4bed-87c4-e0646d8b7c7f",
   "metadata": {},
   "outputs": [],
   "source": [
    "from scipy.stats import pearsonr"
   ]
  },
  {
   "cell_type": "code",
   "execution_count": 50,
   "id": "c37b8ea7-6dd6-47f5-8f76-cf85ead4131d",
   "metadata": {},
   "outputs": [
    {
     "data": {
      "text/plain": [
       "PearsonRResult(statistic=0.9999999999999999, pvalue=0.0)"
      ]
     },
     "execution_count": 50,
     "metadata": {},
     "output_type": "execute_result"
    }
   ],
   "source": [
    "pearsonr(x=data.iloc[:, 1], y=data.iloc[:, 1])"
   ]
  },
  {
   "cell_type": "markdown",
   "id": "529bb7ac-4dce-4cf8-a6c6-445f41466d1f",
   "metadata": {},
   "source": [
    "<h4>Q-4. A group of 20 friends decide to play a game in which they each write a number\n",
    "between 1 and 20 on a slip of paper and put it into a hat. They then draw one slip of paper\n",
    "at random. What is the probability that the number on the slip of paper is a perfect square\n",
    "(i.e., 1, 4, 9, or 16)?"
   ]
  },
  {
   "cell_type": "code",
   "execution_count": 58,
   "id": "bf4cc9e4-f399-416a-96f3-19ceb4a30fce",
   "metadata": {},
   "outputs": [
    {
     "data": {
      "text/plain": [
       "0.2"
      ]
     },
     "execution_count": 58,
     "metadata": {},
     "output_type": "execute_result"
    }
   ],
   "source": [
    "4 / 20"
   ]
  },
  {
   "cell_type": "markdown",
   "id": "3e343ef1-b942-4d5a-8505-4f790b453e4a",
   "metadata": {},
   "source": [
    "Ans: 0.2"
   ]
  },
  {
   "cell_type": "markdown",
   "id": "da48c0e0-e52b-4e8d-86c2-b02280fdd000",
   "metadata": {},
   "source": [
    "<h4>Q-5. A certain city has two taxi companies: Company A has 80% of the taxis and\n",
    "Company B has 20% of the taxis. Company A's taxis have a 95% success rate for picking\n",
    "up passengers on time, while Company B's taxis have a 90% success rate. If a randomly\n",
    "selected taxi is late, what is the probability that it belongs to Company A?"
   ]
  },
  {
   "cell_type": "code",
   "execution_count": 59,
   "id": "97d4e68e-6cfb-4e33-bb76-1656cf4d4fc1",
   "metadata": {},
   "outputs": [
    {
     "name": "stdout",
     "output_type": "stream",
     "text": [
      "Probability taxi belongs to company A: 0.76\n",
      "Probability taxi belongs to company A: 0.18000000000000002\n"
     ]
    }
   ],
   "source": [
    "print(f'Probability taxi belongs to company A: {0.8 * 0.95}')\n",
    "print(f'Probability taxi belongs to company A: {0.2 * 0.9}')"
   ]
  },
  {
   "cell_type": "markdown",
   "id": "a1ee2a4a-2119-4d4f-a449-c4cdf20dd60a",
   "metadata": {},
   "source": [
    "<h4>Q-6. A pharmaceutical company is developing a drug that is supposed to reduce blood\n",
    "pressure. They conduct a clinical trial with 100 patients and record their blood\n",
    "pressure before and after taking the drug. The company wants to know if the change\n",
    "in blood pressure follows a normal distribution."
   ]
  },
  {
   "cell_type": "code",
   "execution_count": 63,
   "id": "0c5e5363-10e5-473e-b49f-77fd73fcd63c",
   "metadata": {},
   "outputs": [
    {
     "name": "stdout",
     "output_type": "stream",
     "text": [
      " Blood Pressure Before (mmHg): Not Gaussian  ShapiroResult(statistic=0.9573234915733337, pvalue=0.002603276167064905)\n",
      " Blood Pressure After (mmHg): Not Gaussian  ShapiroResult(statistic=0.9400556683540344, pvalue=0.00019430516113061458)\n"
     ]
    }
   ],
   "source": [
    "#  Shapiro-Wilk Test for small samples\n",
    "from scipy.stats import shapiro\n",
    "for i in data.columns[1:]:\n",
    "    print(f'{i}: {\"Not Gaussian\" if shapiro(data[i])[1]<0.05 else \"Gaussian\"}  {shapiro(data[i])}')"
   ]
  },
  {
   "cell_type": "markdown",
   "id": "9dad173a-52ba-4537-96e7-d11f93836e27",
   "metadata": {},
   "source": [
    "<h4>Q-7. The equations of two lines of regression, obtained in a correlation analysis\n",
    "between variables X and Y are as follows:\n",
    "and . 2𝑋 + 3 − 8 = 0 2𝑌 + 𝑋 − 5 = 0 The variance of 𝑋 = 4 Find the\n",
    "a. Variance of Y\n",
    "b. Coefficient of determination of C and Y\n",
    "c. Standard error of estimate of X on Y and of Y on X."
   ]
  },
  {
   "cell_type": "code",
   "execution_count": null,
   "id": "d4a79f70-9212-455b-836d-de993f34d2c6",
   "metadata": {},
   "outputs": [],
   "source": []
  },
  {
   "cell_type": "markdown",
   "id": "7cecf797-3428-45c9-b215-ebbc0ac90368",
   "metadata": {},
   "source": [
    "<h4>Q-8. The anxiety levels of 10 participants were measured before and after a new therapy.\n",
    "The scores are not normally distributed. Use the Wilcoxon signed-rank test to test whether\n",
    "the therapy had a significant effect on anxiety levels. The data is given below: Participant\n",
    "Before therapy After therapy Difference"
   ]
  },
  {
   "cell_type": "code",
   "execution_count": null,
   "id": "0423e201-595c-49dc-9a39-87eb7cd3fcbc",
   "metadata": {},
   "outputs": [],
   "source": []
  },
  {
   "cell_type": "markdown",
   "id": "c434ebf6-4cf0-4c06-be05-77904126c962",
   "metadata": {},
   "source": [
    "<h4>Q-9. Given the score of students in multiple exams"
   ]
  },
  {
   "cell_type": "code",
   "execution_count": 91,
   "id": "170b0cf8-022c-473d-a396-0704d8ddb311",
   "metadata": {},
   "outputs": [],
   "source": [
    "df = pd.DataFrame({'name': ['karan', 'deepa', 'karthik', 'chandan', 'jeevan'],\n",
    "                   'exam_1': [85, 70, 90, 75, 95],\n",
    "                  'exam_2': [90, 80, 85, 70, 92],\n",
    "                  'exam_3': [92, 85 ,88, 75, 96]})"
   ]
  },
  {
   "cell_type": "code",
   "execution_count": 88,
   "id": "c253145c-ce79-45d1-9c4d-8c650a887c36",
   "metadata": {},
   "outputs": [
    {
     "data": {
      "text/html": [
       "<div>\n",
       "<style scoped>\n",
       "    .dataframe tbody tr th:only-of-type {\n",
       "        vertical-align: middle;\n",
       "    }\n",
       "\n",
       "    .dataframe tbody tr th {\n",
       "        vertical-align: top;\n",
       "    }\n",
       "\n",
       "    .dataframe thead th {\n",
       "        text-align: right;\n",
       "    }\n",
       "</style>\n",
       "<table border=\"1\" class=\"dataframe\">\n",
       "  <thead>\n",
       "    <tr style=\"text-align: right;\">\n",
       "      <th></th>\n",
       "      <th>name</th>\n",
       "      <th>exam_1</th>\n",
       "      <th>exam_2</th>\n",
       "      <th>exam_3</th>\n",
       "    </tr>\n",
       "  </thead>\n",
       "  <tbody>\n",
       "    <tr>\n",
       "      <th>0</th>\n",
       "      <td>karan</td>\n",
       "      <td>85</td>\n",
       "      <td>90</td>\n",
       "      <td>92</td>\n",
       "    </tr>\n",
       "    <tr>\n",
       "      <th>1</th>\n",
       "      <td>deepa</td>\n",
       "      <td>70</td>\n",
       "      <td>80</td>\n",
       "      <td>85</td>\n",
       "    </tr>\n",
       "    <tr>\n",
       "      <th>2</th>\n",
       "      <td>karthik</td>\n",
       "      <td>90</td>\n",
       "      <td>85</td>\n",
       "      <td>88</td>\n",
       "    </tr>\n",
       "    <tr>\n",
       "      <th>3</th>\n",
       "      <td>chandan</td>\n",
       "      <td>75</td>\n",
       "      <td>70</td>\n",
       "      <td>75</td>\n",
       "    </tr>\n",
       "    <tr>\n",
       "      <th>4</th>\n",
       "      <td>jeevan</td>\n",
       "      <td>95</td>\n",
       "      <td>92</td>\n",
       "      <td>96</td>\n",
       "    </tr>\n",
       "  </tbody>\n",
       "</table>\n",
       "</div>"
      ],
      "text/plain": [
       "      name  exam_1  exam_2  exam_3\n",
       "0    karan      85      90      92\n",
       "1    deepa      70      80      85\n",
       "2  karthik      90      85      88\n",
       "3  chandan      75      70      75\n",
       "4   jeevan      95      92      96"
      ]
     },
     "execution_count": 88,
     "metadata": {},
     "output_type": "execute_result"
    }
   ],
   "source": [
    "df"
   ]
  },
  {
   "cell_type": "markdown",
   "id": "7beaf842-64b4-4470-817b-1f1b5e41d4b7",
   "metadata": {},
   "source": [
    "Q: Test the hypothesis that the mean scores of all the students are the same."
   ]
  },
  {
   "cell_type": "code",
   "execution_count": 89,
   "id": "b055bfc3-3933-41ec-9b9a-1f6c3fd7fb1c",
   "metadata": {},
   "outputs": [
    {
     "data": {
      "text/plain": [
       "F_onewayResult(statistic=12.025830258302586, pvalue=0.0007760917135044952)"
      ]
     },
     "execution_count": 89,
     "metadata": {},
     "output_type": "execute_result"
    }
   ],
   "source": [
    "from scipy.stats import f_oneway\n",
    "f_oneway(df.iloc[0, 1:], df.iloc[1, 1:], df.iloc[2, 1:], df.iloc[3, 1:], df.iloc[4, 1:])"
   ]
  },
  {
   "cell_type": "markdown",
   "id": "72ff3676-5661-463a-81ba-2f556ec04276",
   "metadata": {},
   "source": [
    "One way anova p-value is < 0.05 hence we can reject null hypothesis (mean score of all students is same). Hence, means scores of students is not same"
   ]
  },
  {
   "cell_type": "markdown",
   "id": "df03ad45-0e57-4931-bbb2-7a2ebd673995",
   "metadata": {},
   "source": [
    "Q: If not, name the\n",
    "student with the highest score."
   ]
  },
  {
   "cell_type": "code",
   "execution_count": 92,
   "id": "fa695c71-8c80-4f9d-964b-769aac9da69c",
   "metadata": {},
   "outputs": [
    {
     "data": {
      "text/plain": [
       "name\n",
       "jeevan     94.333333\n",
       "karan      89.000000\n",
       "karthik    87.666667\n",
       "deepa      78.333333\n",
       "chandan    73.333333\n",
       "dtype: float64"
      ]
     },
     "execution_count": 92,
     "metadata": {},
     "output_type": "execute_result"
    }
   ],
   "source": [
    "df.set_index('name', inplace=True)\n",
    "df.mean(axis=1).sort_values(ascending=False)"
   ]
  },
  {
   "cell_type": "markdown",
   "id": "6340481a-51c5-43f7-8a50-dd16ac954ab9",
   "metadata": {},
   "source": [
    "Jeevan has highest mean score"
   ]
  },
  {
   "cell_type": "markdown",
   "id": "fe5a5ea3-6582-4f3e-9a1c-ac2d943dcad9",
   "metadata": {},
   "source": [
    "<h4>Q-10. A factory produces light bulbs, and the probability of a bulb being defective is 0.05.\n",
    "The factory produces a large batch of 500 light bulbs."
   ]
  },
  {
   "cell_type": "code",
   "execution_count": 94,
   "id": "c5b1921a-eaf9-4e96-b42d-245d7bbed924",
   "metadata": {},
   "outputs": [],
   "source": [
    "from scipy.stats import binom_test"
   ]
  },
  {
   "cell_type": "markdown",
   "id": "a56b8958-adaf-4a40-96bd-360c0dc9377d",
   "metadata": {},
   "source": [
    "a. What is the probability that exactly 20 bulbs are defective?"
   ]
  },
  {
   "cell_type": "code",
   "execution_count": 96,
   "id": "f2390bc9-816d-48c7-b5f8-8782386dfe08",
   "metadata": {},
   "outputs": [
    {
     "data": {
      "text/plain": [
       "0.35532145910240864"
      ]
     },
     "execution_count": 96,
     "metadata": {},
     "output_type": "execute_result"
    }
   ],
   "source": [
    "binom_test(x=20, n=500, p=0.05)"
   ]
  },
  {
   "cell_type": "markdown",
   "id": "764005cb-5327-44dd-a518-82c7bcef5dba",
   "metadata": {},
   "source": [
    "b. What is the probability that at least 10 bulbs are defective?"
   ]
  },
  {
   "cell_type": "code",
   "execution_count": 100,
   "id": "2733f366-6de0-4101-8ebd-aab442a4dde0",
   "metadata": {},
   "outputs": [
    {
     "data": {
      "text/plain": [
       "0.9999445061796528"
      ]
     },
     "execution_count": 100,
     "metadata": {},
     "output_type": "execute_result"
    }
   ],
   "source": [
    "binom_test(x=9, n=500, p=0.05, alternative=\"greater\")"
   ]
  },
  {
   "cell_type": "markdown",
   "id": "1caf4ca3-5121-47ee-a5d8-26b734e05156",
   "metadata": {},
   "source": [
    "c. What is the probability that at max 15 bulbs are defective?"
   ]
  },
  {
   "cell_type": "code",
   "execution_count": 102,
   "id": "48eee8be-0efd-4d18-a029-af798a89a698",
   "metadata": {},
   "outputs": [
    {
     "data": {
      "text/plain": [
       "0.034290186598394896"
      ]
     },
     "execution_count": 102,
     "metadata": {},
     "output_type": "execute_result"
    }
   ],
   "source": [
    "binom_test(x=16, n=500, p=0.05, alternative=\"less\")"
   ]
  },
  {
   "cell_type": "markdown",
   "id": "4a8f5ff6-156d-4f75-9e66-638a7601cc26",
   "metadata": {},
   "source": [
    "d. On average, how many defective bulbs would you expect in a batch of 500?"
   ]
  },
  {
   "cell_type": "code",
   "execution_count": 104,
   "id": "b56353eb-0877-486c-b408-b7620442414d",
   "metadata": {},
   "outputs": [
    {
     "name": "stdout",
     "output_type": "stream",
     "text": [
      "25.0\n"
     ]
    }
   ],
   "source": [
    "# n*p\n",
    "print(500 * 0.05)"
   ]
  },
  {
   "cell_type": "markdown",
   "id": "5445ae55-6e06-46da-bc4f-f0966742cc45",
   "metadata": {},
   "source": [
    "<h4>Q-11. Given the data of a feature contributing to different classes"
   ]
  },
  {
   "cell_type": "markdown",
   "id": "40e8443f-a169-4b53-bd70-b7ff11aed4ce",
   "metadata": {},
   "source": [
    "a. Check whether the distribution of all the classes are the same or not."
   ]
  },
  {
   "cell_type": "code",
   "execution_count": 109,
   "id": "70dbc6be-e010-451a-ad19-cbf359188b3f",
   "metadata": {},
   "outputs": [
    {
     "data": {
      "image/png": "[encoded data removed]",
      "text/plain": [
       "<Figure size 640x480 with 1 Axes>"
      ]
     },
     "metadata": {},
     "output_type": "display_data"
    }
   ],
   "source": [
    "data.iloc[:, 1:].plot(kind='kde');"
   ]
  },
  {
   "cell_type": "markdown",
   "id": "239ddcf8-5c06-4d21-938b-d534e5e21c5c",
   "metadata": {},
   "source": [
    "Both samples have similar distribution"
   ]
  },
  {
   "cell_type": "markdown",
   "id": "b6205468-68d0-41db-a8ec-6172166ebfbb",
   "metadata": {},
   "source": [
    "b. Check for the equality of variance"
   ]
  },
  {
   "cell_type": "code",
   "execution_count": 110,
   "id": "dff8e478-1d1e-4d66-a304-39e5d23bb7f2",
   "metadata": {},
   "outputs": [],
   "source": [
    "from scipy.stats import levene"
   ]
  },
  {
   "cell_type": "code",
   "execution_count": 111,
   "id": "460b80e1-c709-4fc1-8dfc-3393c20c2096",
   "metadata": {},
   "outputs": [
    {
     "data": {
      "text/plain": [
       "LeveneResult(statistic=0.18038002140150966, pvalue=0.6715080090945376)"
      ]
     },
     "execution_count": 111,
     "metadata": {},
     "output_type": "execute_result"
    }
   ],
   "source": [
    "levene(data.iloc[:, 1], data.iloc[:, 2])"
   ]
  },
  {
   "cell_type": "markdown",
   "id": "02ea928c-8119-401a-b7fa-a95dfdd0b747",
   "metadata": {},
   "source": [
    "Since p-value > 0.05 we can't reject null hypotheses that both variances are equal. Hence, both variances are equal"
   ]
  },
  {
   "cell_type": "markdown",
   "id": "407a1eb9-1ccb-411a-b982-56f0a717c241",
   "metadata": {},
   "source": [
    "d. Check the equality of mean for between all the classes."
   ]
  },
  {
   "cell_type": "code",
   "execution_count": 112,
   "id": "03b2d750-9a53-487f-8d02-4cd9b0d27d0c",
   "metadata": {},
   "outputs": [],
   "source": [
    "from scipy.stats import ttest_rel"
   ]
  },
  {
   "cell_type": "code",
   "execution_count": 113,
   "id": "a1a74771-58ca-48bf-a0af-0631e903aaeb",
   "metadata": {},
   "outputs": [
    {
     "data": {
      "text/plain": [
       "Ttest_relResult(statistic=38.40500458621546, pvalue=2.817165090364283e-61)"
      ]
     },
     "execution_count": 113,
     "metadata": {},
     "output_type": "execute_result"
    }
   ],
   "source": [
    "ttest_rel(data.iloc[:, 1], data.iloc[:, 2])"
   ]
  },
  {
   "cell_type": "markdown",
   "id": "af125ed0-f00f-47e3-b7ca-1f30f810bcc4",
   "metadata": {},
   "source": [
    "Since p-value < 0.05 we can reject null hypotheses that difference b/w both means is 0 i.e. both means are equal. Hence, both means are not equal"
   ]
  },
  {
   "cell_type": "markdown",
   "id": "5cce5478-2dbf-4561-8e10-f318a29e7c66",
   "metadata": {},
   "source": [
    "<h4>Q-12. A pharmaceutical company develops a new drug and wants to compare its\n",
    "effectiveness against a standard drug for treating a particular condition. They conduct a\n",
    "study with two groups: Group A receives the new drug, and Group B receives the standard\n",
    "drug. The company measures the improvement in a specific symptom for both groups after\n",
    "a 4-week treatment period."
   ]
  },
  {
   "cell_type": "code",
   "execution_count": 115,
   "id": "d3bfa064-61a3-438f-a80c-5d14ec9f5517",
   "metadata": {},
   "outputs": [],
   "source": [
    "n = 30\n",
    "mean_a = 2.5\n",
    "std_a = 0.8\n",
    "mean_b = 2.2\n",
    "std_b = 0.6"
   ]
  },
  {
   "cell_type": "code",
   "execution_count": 126,
   "id": "f9afa1b6-7960-4d28-8c93-22e65c59e542",
   "metadata": {},
   "outputs": [],
   "source": [
    "from scipy.stats import t\n",
    "def two_samp_ttest(mean_a, mean_b, std_a, std_b, n):\n",
    "    pooled_sd = np.sqrt(((std_a ** 2) / n) + ((std_b ** 2) / n))\n",
    "    t_ = (mean_a - mean_b) / pooled_sd\n",
    "    p = t.sf(t_, df=(n + n - 2)) * 2\n",
    "    return t_, p"
   ]
  },
  {
   "cell_type": "code",
   "execution_count": 128,
   "id": "c5a13126-5978-4685-9120-93335a6260b1",
   "metadata": {},
   "outputs": [
    {
     "name": "stdout",
     "output_type": "stream",
     "text": [
      "t-statistic= 1.6431676725154973\n",
      "p-value= 0.10575916705583678\n"
     ]
    }
   ],
   "source": [
    "t_, p = two_samp_ttest(2.5, 2.2, 0.8, 0.6, 30)\n",
    "print(f't-statistic= {t_}\\np-value= {p}')"
   ]
  },
  {
   "cell_type": "markdown",
   "id": "c1667566-9414-4777-bd58-efc12b75e16a",
   "metadata": {},
   "source": [
    "Since, p-value > 0.05 we can't reject null hypothesis (means are same). Hence, mean  of 2 samples is same"
   ]
  },
  {
   "cell_type": "markdown",
   "id": "57c031ba-b853-4edd-8ddc-be67119a9c95",
   "metadata": {},
   "source": [
    "There is no imporovement in the groups"
   ]
  }
 ],
 "metadata": {
  "kernelspec": {
   "display_name": "Python 3 (ipykernel)",
   "language": "python",
   "name": "python3"
  },
  "language_info": {
   "codemirror_mode": {
    "name": "ipython",
    "version": 3
   },
   "file_extension": ".py",
   "mimetype": "text/x-python",
   "name": "python",
   "nbconvert_exporter": "python",
   "pygments_lexer": "ipython3",
   "version": "3.9.13"
  }
 },
 "nbformat": 4,
 "nbformat_minor": 5
}
