{
 "cells": [
  {
   "cell_type": "code",
   "execution_count": 1,
   "id": "ecc71b03-5ca6-4b76-82d2-15e159001aac",
   "metadata": {},
   "outputs": [],
   "source": [
    "import os\n",
    "import numpy as np\n",
    "import pandas as pd\n",
    "from unidecode import unidecode\n",
    "import spacy\n",
    "import re\n",
    "from tqdm import tqdm\n",
    "from sklearn.ensemble import RandomForestRegressor\n",
    "from sklearn.metrics import mean_squared_error\n",
    "from sklearn.model_selection import train_test_split, KFold, GridSearchCV\n",
    "from sklearn.decomposition import TruncatedSVD\n",
    "import cloudpickle"
   ]
  },
  {
   "cell_type": "code",
   "execution_count": 2,
   "id": "60918dbb-044d-4b74-ae77-f2e79a898512",
   "metadata": {},
   "outputs": [],
   "source": [
    "def get_csv_test_data(path: str):\n",
    "    '''\n",
    "    Read CSV file\n",
    "    '''\n",
    "    data = pd.read_csv(path, sep=\",\")\n",
    "    return data"
   ]
  },
  {
   "cell_type": "code",
   "execution_count": 3,
   "id": "8ff5aefb-aed0-4213-934f-c35f7da71cd2",
   "metadata": {},
   "outputs": [],
   "source": [
    "nlp = spacy.load('en_core_web_sm')\n",
    "def lemmatize(s: str):\n",
    "    '''\n",
    "    lemmatize tags\n",
    "    '''\n",
    "    s = str(s)\n",
    "    if len(s) > 2:\n",
    "        doc = nlp(s)\n",
    "        return str(doc[0].lemma_)\n",
    "    else:\n",
    "        return s"
   ]
  },
  {
   "cell_type": "code",
   "execution_count": 4,
   "id": "aa7c62ae-594f-4972-9f09-274a452ab84c",
   "metadata": {},
   "outputs": [],
   "source": [
    "def read_acronym_list():\n",
    "    acronym_list = pd.read_csv(os.path.join(\"..\", 'utils', 'acronym_replace.csv'))\n",
    "    acronym_list = acronym_list.set_index('from').T\n",
    "    acronym_dict = acronym_list.to_dict(orient='records')[0]\n",
    "    return acronym_dict"
   ]
  },
  {
   "cell_type": "code",
   "execution_count": 5,
   "id": "cd54b8be-2ddd-4e8e-b967-19218e630e68",
   "metadata": {},
   "outputs": [],
   "source": [
    "acronym_dict = read_acronym_list()\n",
    "def hashtag_clean(s: str):\n",
    "    s = unidecode(s)\n",
    "    s = s.lower()\n",
    "    s = s.replace(\", \", \"\")\n",
    "    s = s.replace(\",\", \"\")\n",
    "    s = s.replace(\" # \", \"#\")\n",
    "    s = s.replace(\" #\", \"#\")\n",
    "    s = s.replace(\"# \", \"#\")\n",
    "    s = s.replace(\"\\n\", \"\")\n",
    "    s = s.replace(\"\\t\", \"\")\n",
    "    s = s.replace(\"\\r\", \"\")\n",
    "    s = s.replace(\"_\", \"\")\n",
    "    s = s.replace(\"\\xa0\", \"\")\n",
    "    s = s.replace(\".\", \"\")\n",
    "    tokens = []\n",
    "    for token in s.split('#')[1:]:\n",
    "        if acronym_dict.get(token) is not None:\n",
    "            token = acronym_dict.get(token)\n",
    "        tokens.append(lemmatize(token))\n",
    "    return \", \".join(list(set(tokens)))"
   ]
  },
  {
   "cell_type": "code",
   "execution_count": 6,
   "id": "3040d1fe-6dd4-407c-83de-6af57fd5299d",
   "metadata": {},
   "outputs": [],
   "source": [
    "def clean_test_hashtag_column(tags: pd.Series, threshold: float=0.45):\n",
    "    clean_hashtags = tags.map(hashtag_clean)\n",
    "    return clean_hashtags"
   ]
  },
  {
   "cell_type": "code",
   "execution_count": 7,
   "id": "1e827cb6-7e35-4839-ab3e-09e73d6cbabd",
   "metadata": {},
   "outputs": [
    {
     "data": {
      "text/plain": [
       "['deeplearne',\n",
       " 'blockchain',\n",
       " 'datum',\n",
       " 'design',\n",
       " 'machinelearne',\n",
       " 'bitcoin',\n",
       " 'code',\n",
       " 'artificialintelligence',\n",
       " 'product',\n",
       " 'bigdata',\n",
       " 'businessowner',\n",
       " 'other_tag',\n",
       " 'entrepreneur',\n",
       " 'datascience',\n",
       " 'programming',\n",
       " 'crypto',\n",
       " 'cryptocurrency',\n",
       " 'business',\n",
       " 'startup',\n",
       " 'iot',\n",
       " 'technology',\n",
       " 'development',\n",
       " 'ethereum']"
      ]
     },
     "execution_count": 7,
     "metadata": {},
     "output_type": "execute_result"
    }
   ],
   "source": [
    "training_data_tags = [*pd.read_csv(os.path.join(\"..\", 'utils', \"training_data_tags.csv\")).squeeze(\"columns\")]\n",
    "training_data_tags"
   ]
  },
  {
   "cell_type": "code",
   "execution_count": 8,
   "id": "5fce23a3-9d75-49b5-98d8-2cc1efb7625a",
   "metadata": {},
   "outputs": [],
   "source": [
    "def spread_test_tags(data: pd.DataFrame):\n",
    "    data = data.reset_index(drop=True).copy()\n",
    "    for train_tag in training_data_tags:\n",
    "        data[train_tag] = 0\n",
    "    for row_n in tqdm(range(len(data['clean_hashtags']))):\n",
    "        row = data['clean_hashtags'][row_n]\n",
    "        for tag in row.split(\", \"):\n",
    "            if training_data_tags.count(tag) == 0:\n",
    "                data.loc[row_n, 'other_tag'] += 1\n",
    "            else:\n",
    "                data.loc[row_n, tag] = 1\n",
    "    data.fillna(0, inplace=True)\n",
    "    return data"
   ]
  },
  {
   "cell_type": "code",
   "execution_count": 9,
   "id": "3c334f24-40b9-4543-8982-3d8bb8384003",
   "metadata": {},
   "outputs": [],
   "source": [
    "def prepare_test_data(path: str):\n",
    "    test_data = get_csv_test_data(path)\n",
    "    y = test_data['Likes'].copy()\n",
    "    test_data['clean_hashtags'] = clean_test_hashtag_column(test_data['Hashtags'])\n",
    "    test_data = spread_test_tags(test_data)\n",
    "    test_data = test_data[[*pd.read_csv(os.path.join(\"..\", 'utils', 'training_features.csv')).squeeze('columns')]].copy()\n",
    "    x = test_data.copy()\n",
    "    return x, y"
   ]
  },
  {
   "cell_type": "code",
   "execution_count": 10,
   "id": "869b399a-2e71-44f6-bae8-c061cece1a6e",
   "metadata": {},
   "outputs": [
    {
     "name": "stderr",
     "output_type": "stream",
     "text": [
      "100%|████████████████████████████████████████████████████████████████████████████████| 10/10 [00:00<00:00, 1116.84it/s]\n"
     ]
    }
   ],
   "source": [
    "x_test, y_test = prepare_test_data(os.path.join(\"..\", 'data', \"test_data.csv\"))"
   ]
  },
  {
   "cell_type": "code",
   "execution_count": 11,
   "id": "c63adf46-f8f7-4e10-9ffb-2a68498d14f3",
   "metadata": {},
   "outputs": [],
   "source": [
    "pd.concat([x_test, y_test], axis= 1).to_csv(os.path.join(\"..\", \"data\", \"test_preprocessed.csv\"), index=False)"
   ]
  },
  {
   "cell_type": "code",
   "execution_count": 12,
   "id": "5213384a-6326-48e2-8eeb-be450d43469a",
   "metadata": {},
   "outputs": [
    {
     "data": {
      "text/plain": [
       "((10, 24), (10,))"
      ]
     },
     "execution_count": 12,
     "metadata": {},
     "output_type": "execute_result"
    }
   ],
   "source": [
    "x_test.shape, y_test.shape"
   ]
  },
  {
   "cell_type": "code",
   "execution_count": 13,
   "id": "7b1ab1eb-c3cc-490f-9ac1-f6ae5d7bb3c3",
   "metadata": {},
   "outputs": [],
   "source": [
    "def predict(x_test: pd.DataFrame, model_path: str=os.path.join(\"..\", 'models', \"best_model.pkl\")):\n",
    "    with open(model_path, \"rb\") as file:\n",
    "        best_model = cloudpickle.load(file)\n",
    "    prediction = best_model.predict(x_test)\n",
    "    return prediction"
   ]
  },
  {
   "cell_type": "code",
   "execution_count": 14,
   "id": "050b625b-87ff-45ee-89f3-3a1c29b6cee1",
   "metadata": {},
   "outputs": [],
   "source": [
    "pred = predict(x_test)"
   ]
  },
  {
   "cell_type": "code",
   "execution_count": 15,
   "id": "250e8fa9-9517-43e0-a998-20ea645128d9",
   "metadata": {},
   "outputs": [
    {
     "data": {
      "text/plain": [
       "array([27.89148679, 27.40785436, 43.79557062, 27.53590198, 27.77690198,\n",
       "       53.08459714, 43.79557062, 29.63899406, 27.77690198, 52.16938022])"
      ]
     },
     "execution_count": 15,
     "metadata": {},
     "output_type": "execute_result"
    }
   ],
   "source": [
    "pred"
   ]
  },
  {
   "cell_type": "code",
   "execution_count": 16,
   "id": "003206af-285a-46ec-9ac1-1097e6364ae9",
   "metadata": {},
   "outputs": [
    {
     "data": {
      "text/plain": [
       "0     14\n",
       "1     24\n",
       "2     21\n",
       "3     31\n",
       "4     16\n",
       "5    136\n",
       "6     20\n",
       "7     28\n",
       "8     31\n",
       "9    139\n",
       "Name: Likes, dtype: int64"
      ]
     },
     "execution_count": 16,
     "metadata": {},
     "output_type": "execute_result"
    }
   ],
   "source": [
    "y_test"
   ]
  },
  {
   "cell_type": "code",
   "execution_count": null,
   "id": "59f6a26d-37f4-4a57-9a3f-53efe7b77d86",
   "metadata": {},
   "outputs": [],
   "source": []
  },
  {
   "cell_type": "code",
   "execution_count": null,
   "id": "5f5c9699-0400-43ab-925f-f23b6492f3a0",
   "metadata": {},
   "outputs": [],
   "source": []
  }
 ],
 "metadata": {
  "kernelspec": {
   "display_name": "Python 3 (ipykernel)",
   "language": "python",
   "name": "python3"
  },
  "language_info": {
   "codemirror_mode": {
    "name": "ipython",
    "version": 3
   },
   "file_extension": ".py",
   "mimetype": "text/x-python",
   "name": "python",
   "nbconvert_exporter": "python",
   "pygments_lexer": "ipython3",
   "version": "3.9.13"
  }
 },
 "nbformat": 4,
 "nbformat_minor": 5
}
