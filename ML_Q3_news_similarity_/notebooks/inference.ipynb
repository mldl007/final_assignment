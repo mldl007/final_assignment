{
 "cells": [
  {
   "cell_type": "code",
   "execution_count": 1,
   "id": "810ae57c-0436-4420-aa69-413125682c93",
   "metadata": {},
   "outputs": [],
   "source": [
    "import os\n",
    "import numpy as np\n",
    "import pandas as pd\n",
    "import matplotlib.pyplot as plt\n",
    "import string\n",
    "import spacy\n",
    "from gensim.models import KeyedVectors\n",
    "from sklearn.feature_extraction.text import TfidfVectorizer\n",
    "from sklearn.cluster import KMeans\n",
    "from sklearn.preprocessing import MinMaxScaler, MaxAbsScaler\n",
    "from sklearn.metrics import silhouette_score\n",
    "import cloudpickle\n",
    "from sklearn.decomposition import PCA, TruncatedSVD\n",
    "from numpy.linalg import norm\n",
    "import warnings\n",
    "warnings.filterwarnings(\"ignore\")"
   ]
  },
  {
   "cell_type": "markdown",
   "id": "b438598f-38be-4b8e-b390-b1c6ec4ec008",
   "metadata": {},
   "source": [
    "<h3>SINCE FINDING COSINE SIMILARITY BETWEEN TEXT EMBEDDINGS HAVING 768 DIMENSIONS AND 50,000 SAMPLES IS REALLY RESOURCE INTESIVE. I CAME UP WITH A TECHINIQUE THAT IS LESS RESOURCE INTENSIVE. THIS IS ACHIEVED BY REDUCING THE DIMENSIONS FROM 768 TO 150. THEN THE SAMPLES ARE ASSIGNED TO CLUSTERS. DURING INFERENCE THE NEWS SAMPLES ARE FILTERED BASED ON THE CLUSTER Of INPUT NEWS. THIS HEAVILY REDUCES THE NUMBER OF SAMPLES FOR WHICH COSINE SIMILARITY MUST BE COMPUTED. "
   ]
  },
  {
   "cell_type": "code",
   "execution_count": 2,
   "id": "30e8f14b-4b08-486a-ad09-50ad009e7a9b",
   "metadata": {},
   "outputs": [],
   "source": [
    "with open(os.path.join(\"..\", \"models\", \"preprocessor.bin\"), \"rb\") as file:\n",
    "    preprocessor = cloudpickle.load(file)\n",
    "\n",
    "with open(os.path.join(\"..\", \"models\", \"vectorizer.bin\"), \"rb\") as file:\n",
    "    vectorizer = cloudpickle.load(file)\n",
    "\n",
    "with open(os.path.join(\"..\", \"models\", \"pca.bin\"), \"rb\") as file:\n",
    "    pca = cloudpickle.load(file)\n",
    "\n",
    "with open(os.path.join(\"..\", \"models\", \"clustering.bin\"), \"rb\") as file:\n",
    "    clustering = cloudpickle.load(file)\n",
    "    \n",
    "pca_text = pd.read_parquet(os.path.join(\"..\", \"data\", \"pca_text.parquet\"))\n",
    "text_data = pd.read_parquet(os.path.join(\"..\", \"data\", \"text_data.parquet\"))"
   ]
  },
  {
   "cell_type": "code",
   "execution_count": 3,
   "id": "799fd416-c46f-46c8-9055-adf1ad262d0a",
   "metadata": {},
   "outputs": [
    {
     "data": {
      "text/plain": [
       "(50000, 150)"
      ]
     },
     "execution_count": 3,
     "metadata": {},
     "output_type": "execute_result"
    }
   ],
   "source": [
    "pca_text.shape"
   ]
  },
  {
   "cell_type": "code",
   "execution_count": 4,
   "id": "36fe8652-b2c9-4da2-b5bf-c8a005b9b1a9",
   "metadata": {},
   "outputs": [],
   "source": [
    "def cosine_similarity(a, b):\n",
    "    cos_sim = np.dot(a, b)/(norm(a)*norm(b))\n",
    "    return cos_sim"
   ]
  },
  {
   "cell_type": "code",
   "execution_count": 36,
   "id": "c8a678d0-c808-413c-9366-060979016359",
   "metadata": {},
   "outputs": [],
   "source": [
    "def inference(text: str):\n",
    "    text = pd.Series(text)\n",
    "    text = preprocessor.preprocess(text, dataset='test')\n",
    "    text = vectorizer.vectorize(text, dataset='test')\n",
    "    text = pca.reduce_dimensions(pd.DataFrame(text), dataset='test')\n",
    "    cluster = clustering.predict(pd.DataFrame(text))\n",
    "    \n",
    "    match_idx = text_data.loc[text_data['cluster'] == cluster[0]].index\n",
    "    # match_idx = range(len(pca_text))\n",
    "    \n",
    "    match_pca_txt = pca_text.loc[match_idx, :].reset_index(drop=True).copy()\n",
    "    match_txt = text_data.loc[match_idx, :].reset_index(drop=True).copy()\n",
    "    similarities = []\n",
    "    for i in range(len(match_pca_txt)):\n",
    "        similarities.append(cosine_similarity(match_pca_txt.iloc[i, :].values, text.ravel()))\n",
    "    \n",
    "    match_txt['similarity_score'] = similarities\n",
    "    match_txt.sort_values(by='similarity_score', ascending=False)\n",
    "    \n",
    "    return match_txt"
   ]
  },
  {
   "cell_type": "code",
   "execution_count": 37,
   "id": "7d166005-5fbf-4f09-8435-9002ccf94bdf",
   "metadata": {},
   "outputs": [],
   "source": [
    "def display_similar_news(input_news: str, top_n: int=10):\n",
    "    similar_news = inference(input_news)\n",
    "    similar_news = similar_news.iloc[:top_n, :].reset_index(drop=True)\n",
    "    print(f'Input: {input_news}{\"-\"*50}\\nSIMILAR NEWS\\n{\"-\"*50}\\n')\n",
    "    for i in range(len(similar_news)):\n",
    "        print(f'Category: {similar_news.loc[i, \"category\"]}\\nHeadline: {similar_news.loc[i, \"headline\"]}\\nDescription: {similar_news.loc[i, \"short_description\"]}\\n')"
   ]
  },
  {
   "cell_type": "code",
   "execution_count": 41,
   "id": "eb638603-28c3-4799-aad4-56daee846e28",
   "metadata": {},
   "outputs": [
    {
     "name": "stdout",
     "output_type": "stream",
     "text": [
      "Input: \n",
      "Killers of the Flower Moon trailer: Martin Scorsese, Leonardo DiCaprio promise a chilling Western\n",
      "Martin Scorsese directorial Killers of the Flower Moon stars Leonardo DiCaprio, Robert De Niro, Lily Gladstone, Jesse Plemons, Tantoo Cardinal, Cara Jade Myers, JaNae Collins, and Jillian Dion.\n",
      "--------------------------------------------------\n",
      "SIMILAR NEWS\n",
      "--------------------------------------------------\n",
      "\n",
      "Category: ENTERTAINMENT\n",
      "Headline: James Cameron Says He 'Clashed' With Studio Before 'Avatar' Release\n",
      "Description: The \"Avatar\" director said aspects of his 2009 movie are \"still competitive with everything that’s out there these days.\"\n",
      "\n",
      "Category: ENTERTAINMENT\n",
      "Headline: Amazon Greenlights 'Blade Runner 2099' Limited Series Produced By Ridley Scott\n",
      "Description: The director of the original 1982 film joins a writer of the 2017 sequel for the newest installment in the sci-fi franchise.\n",
      "\n",
      "Category: ENTERTAINMENT\n",
      "Headline: Jean-Luc Godard, Pioneering French Filmmaker, Dies\n",
      "Description: The director was best known for the groundbreaking movie \"Breathless.\"\n",
      "\n",
      "Category: CULTURE & ARTS\n",
      "Headline: 'Sidney' Tackles The Not-So-Comfortable Conversations About A Black Cinema Icon\n",
      "Description: It’s not about sensationalizing or even tarnishing the reputation of Sidney Poitier. Rather, the new documentary honors his humanity — every facet of it.\n",
      "\n",
      "Category: ENTERTAINMENT\n",
      "Headline: James Cameron Presents New Scenes From 'Avatar: The Way Of Water' At D23 Expo\n",
      "Description: The director told the audience he was \"super excited to be finally finishing up movie two\" — as he has three additional installments in the works.\n",
      "\n"
     ]
    }
   ],
   "source": [
    "txt = '''\n",
    "Killers of the Flower Moon trailer: Martin Scorsese, Leonardo DiCaprio promise a chilling Western\n",
    "Martin Scorsese directorial Killers of the Flower Moon stars Leonardo DiCaprio, Robert De Niro, Lily Gladstone, Jesse Plemons, Tantoo Cardinal, Cara Jade Myers, JaNae Collins, and Jillian Dion.\n",
    "'''\n",
    "display_similar_news(txt, top_n=5)"
   ]
  },
  {
   "cell_type": "code",
   "execution_count": 44,
   "id": "539b0c57-ad26-4775-a0d7-aa63d0373080",
   "metadata": {},
   "outputs": [
    {
     "name": "stdout",
     "output_type": "stream",
     "text": [
      "Input: \n",
      "‘Impossible to play Roland Garros’: Rafael Nadal to miss French Open for the first time since 2004\n",
      "Nadal has been on the sidelines since picking a left hip flexor injury during a second-round loss at the Australian Open in January.\n",
      "--------------------------------------------------\n",
      "SIMILAR NEWS\n",
      "--------------------------------------------------\n",
      "\n",
      "Category: WORLD NEWS\n",
      "Headline: World Cup Captains Want To Wear Rainbow Armbands In Qatar\n",
      "Description: FIFA has come under pressure from several European soccer federations who want to support a human rights campaign against discrimination at the World Cup.\n",
      "\n",
      "Category: SPORTS\n",
      "Headline: Las Vegas Aces Win First WNBA Title, Chelsea Gray Named MVP\n",
      "Description: Las Vegas never had a professional sports champion — until Sunday.\n",
      "\n",
      "Category: SPORTS\n",
      "Headline: Boston Marathon To Make Race More Inclusive For Nonbinary Runners\n",
      "Description: The race's organizers say nonbinary athletes won't have to register with the men's or women's divisions and provided qualifying times to guide their training.\n",
      "\n",
      "Category: SPORTS\n",
      "Headline: Carlos Alcaraz Wins U.S. Open For 1st Slam Title, Top Ranking\n",
      "Description: Carlos Alcaraz defeated Casper Ruud in the U.S. Open final to earn his first Grand Slam at age 19 and become the youngest man to move up to No. 1 in the rankings.\n",
      "\n",
      "Category: POLITICS\n",
      "Headline: NBA Won't Host Election Day Games In Effort To Increase Voter Turnout\n",
      "Description: For many Americans living in states with strict voter suppression laws, Election Day is their only chance to cast a ballot.\n",
      "\n"
     ]
    }
   ],
   "source": [
    "txt = '''\n",
    "‘Impossible to play Roland Garros’: Rafael Nadal to miss French Open for the first time since 2004\n",
    "Nadal has been on the sidelines since picking a left hip flexor injury during a second-round loss at the Australian Open in January.\n",
    "'''\n",
    "display_similar_news(txt, top_n=5)"
   ]
  },
  {
   "cell_type": "code",
   "execution_count": 50,
   "id": "bdbad469-d7ba-42f3-a6a2-274fd97f1cca",
   "metadata": {},
   "outputs": [
    {
     "name": "stdout",
     "output_type": "stream",
     "text": [
      "Input: \n",
      "More than 20 rivers have burst their banks in Italy, leaving 13 people dead and forcing thousands from their homes after six months' rainfall fell in a day and a half.\n",
      "More bodies were found on Thursday after almost every river flooded between Bologna and the north-east coast 115km (70 miles) away.\n",
      "Some 280 landslides have taken place.\n",
      "--------------------------------------------------\n",
      "SIMILAR NEWS\n",
      "--------------------------------------------------\n",
      "\n",
      "Category: WORLD NEWS\n",
      "Headline: Fiona Threatens To Become Category 4 Storm Headed To Bermuda\n",
      "Description: Hurricane Fiona lashed the Turks and Caicos Islands and was forecast to squeeze past Bermuda later this week.\n",
      "\n",
      "Category: WORLD NEWS\n",
      "Headline: Fiona Barrels Toward Turks And Caicos Islands As Category 3 Hurricane\n",
      "Description: The Turks and Caicos Islands government imposed a curfew as the intensifying storm kept dropping copious rain over the Dominican Republic and Puerto Rico.\n",
      "\n",
      "Category: WORLD NEWS\n",
      "Headline: Hurricane Fiona Bears Down On Dominican Republic After Pounding Puerto Rico\n",
      "Description: The storm knocked out the power grid and unleashed floods and landslides in Puerto Rico, where the governor said the damage was “catastrophic.”\n",
      "\n",
      "Category: ENVIRONMENT\n",
      "Headline: Alaska Prepares For 'Historic-Level' Storm Barreling Towards Coast\n",
      "Description: “In 10 years, people will be referring to the September 2022 storm as a benchmark storm.”\n",
      "\n",
      "Category: ENVIRONMENT\n",
      "Headline: Puerto Rico Braces For Landslides And Severe Flooding As Tropical Storm Fiona Approaches\n",
      "Description: Puerto Rico was under a hurricane watch Saturday as the storm barreled towards the U.S. territory.\n",
      "\n"
     ]
    }
   ],
   "source": [
    "txt = '''\n",
    "More than 20 rivers have burst their banks in Italy, leaving 13 people dead and forcing thousands from their homes after six months' rainfall fell in a day and a half.\n",
    "More bodies were found on Thursday after almost every river flooded between Bologna and the north-east coast 115km (70 miles) away.\n",
    "Some 280 landslides have taken place.\n",
    "'''\n",
    "display_similar_news(txt, top_n=5)"
   ]
  },
  {
   "cell_type": "code",
   "execution_count": 51,
   "id": "5ade6c04-5a57-4c78-808f-1b3f19b04ee9",
   "metadata": {},
   "outputs": [
    {
     "name": "stdout",
     "output_type": "stream",
     "text": [
      "Input: \n",
      "Thousands of Israeli nationalists have been marching into the Muslim quarter of Jerusalem's Old City, with violence directed at media covering the event.\n",
      "The flag parade is part of Israel's Jerusalem Day, marking its capture of the east of the city in the 1967 war.\n",
      "A group of marchers threw stones, sticks and bottles at Palestinian and foreign journalists at the Damascus Gate entrance.\n",
      "--------------------------------------------------\n",
      "SIMILAR NEWS\n",
      "--------------------------------------------------\n",
      "\n",
      "Category: U.S. NEWS\n",
      "Headline: 9/11 Attacks Still Reverberate As U.S. Marks 21st Anniversary\n",
      "Description: September 11th remains a point for reflection on the 2001 attacks that reconfigured national security policy and spurred a U.S. “war on terror” worldwide.\n",
      "\n",
      "Category: ENTERTAINMENT\n",
      "Headline: Muslims Only Make Up 1% Of Characters On TV, Study Finds\n",
      "Description: In most of the 200 scripted shows that researchers analyzed, Muslim characters were typically violent, dehumanized or disparaged — if they existed at all.\n",
      "\n",
      "Category: WORLD NEWS\n",
      "Headline: Syria Denies It Is Holding American Journalist Austin Tice\n",
      "Description: President Joe Biden accused the Syrian government of detaining Austin Tice, who has been missing for 10 years.\n",
      "\n",
      "Category: WORLD NEWS\n",
      "Headline: Slain Al Jazeera Journalist Was Icon Of Palestinian Coverage\n",
      "Description: Israeli forces killed 51-year old Shireen Abu Akleh while she was wearing her press vest, according to Al Jazeera.\n",
      "\n",
      "Category: WORLD NEWS\n",
      "Headline: Israel Searches For Attackers Who Killed 3 In Mass Stabbing Near Tel Aviv\n",
      "Description: The stabbing comes as Israeli-Palestinian tensions were already heightened by violence at a major holy site in Jerusalem sacred to Jews and Muslims.\n",
      "\n"
     ]
    }
   ],
   "source": [
    "txt = '''\n",
    "Thousands of Israeli nationalists have been marching into the Muslim quarter of Jerusalem's Old City, with violence directed at media covering the event.\n",
    "The flag parade is part of Israel's Jerusalem Day, marking its capture of the east of the city in the 1967 war.\n",
    "A group of marchers threw stones, sticks and bottles at Palestinian and foreign journalists at the Damascus Gate entrance.\n",
    "'''\n",
    "display_similar_news(txt, top_n=5)"
   ]
  }
 ],
 "metadata": {
  "kernelspec": {
   "display_name": "Python 3 (ipykernel)",
   "language": "python",
   "name": "python3"
  },
  "language_info": {
   "codemirror_mode": {
    "name": "ipython",
    "version": 3
   },
   "file_extension": ".py",
   "mimetype": "text/x-python",
   "name": "python",
   "nbconvert_exporter": "python",
   "pygments_lexer": "ipython3",
   "version": "3.9.13"
  }
 },
 "nbformat": 4,
 "nbformat_minor": 5
}
