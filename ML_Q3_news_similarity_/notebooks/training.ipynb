{
 "cells": [
  {
   "cell_type": "code",
   "execution_count": 1,
   "id": "ee480402-4f4e-406a-933b-51f52f075d3e",
   "metadata": {},
   "outputs": [],
   "source": [
    "import os\n",
    "import numpy as np\n",
    "import pandas as pd\n",
    "import matplotlib.pyplot as plt\n",
    "import string\n",
    "import spacy\n",
    "from sklearn.feature_extraction.text import TfidfVectorizer\n",
    "from sklearn.cluster import KMeans\n",
    "from sklearn.preprocessing import MinMaxScaler, MaxAbsScaler\n",
    "from sklearn.metrics import silhouette_score\n",
    "import cloudpickle\n",
    "from sklearn.decomposition import PCA, TruncatedSVD\n",
    "from numpy.linalg import norm\n",
    "import warnings\n",
    "warnings.filterwarnings(\"ignore\")\n",
    "from sentence_transformers import SentenceTransformer"
   ]
  },
  {
   "cell_type": "code",
   "execution_count": 2,
   "id": "10f5efa1-b3e8-42db-a9ee-0235c6d1a840",
   "metadata": {},
   "outputs": [],
   "source": [
    "data = pd.read_json(os.path.join(\"..\", \"data\", \"News_Category_Dataset_v3.json\"), lines=True)"
   ]
  },
  {
   "cell_type": "code",
   "execution_count": 3,
   "id": "22cac47c-3fc1-40c4-8933-7f1f48157a5f",
   "metadata": {},
   "outputs": [
    {
     "data": {
      "text/html": [
       "<div>\n",
       "<style scoped>\n",
       "    .dataframe tbody tr th:only-of-type {\n",
       "        vertical-align: middle;\n",
       "    }\n",
       "\n",
       "    .dataframe tbody tr th {\n",
       "        vertical-align: top;\n",
       "    }\n",
       "\n",
       "    .dataframe thead th {\n",
       "        text-align: right;\n",
       "    }\n",
       "</style>\n",
       "<table border=\"1\" class=\"dataframe\">\n",
       "  <thead>\n",
       "    <tr style=\"text-align: right;\">\n",
       "      <th></th>\n",
       "      <th>link</th>\n",
       "      <th>headline</th>\n",
       "      <th>category</th>\n",
       "      <th>short_description</th>\n",
       "      <th>authors</th>\n",
       "      <th>date</th>\n",
       "    </tr>\n",
       "  </thead>\n",
       "  <tbody>\n",
       "    <tr>\n",
       "      <th>0</th>\n",
       "      <td>https://www.huffpost.com/entry/covid-boosters-...</td>\n",
       "      <td>Over 4 Million Americans Roll Up Sleeves For O...</td>\n",
       "      <td>U.S. NEWS</td>\n",
       "      <td>Health experts said it is too early to predict...</td>\n",
       "      <td>Carla K. Johnson, AP</td>\n",
       "      <td>2022-09-23</td>\n",
       "    </tr>\n",
       "    <tr>\n",
       "      <th>1</th>\n",
       "      <td>https://www.huffpost.com/entry/american-airlin...</td>\n",
       "      <td>American Airlines Flyer Charged, Banned For Li...</td>\n",
       "      <td>U.S. NEWS</td>\n",
       "      <td>He was subdued by passengers and crew when he ...</td>\n",
       "      <td>Mary Papenfuss</td>\n",
       "      <td>2022-09-23</td>\n",
       "    </tr>\n",
       "    <tr>\n",
       "      <th>2</th>\n",
       "      <td>https://www.huffpost.com/entry/funniest-tweets...</td>\n",
       "      <td>23 Of The Funniest Tweets About Cats And Dogs ...</td>\n",
       "      <td>COMEDY</td>\n",
       "      <td>\"Until you have a dog you don't understand wha...</td>\n",
       "      <td>Elyse Wanshel</td>\n",
       "      <td>2022-09-23</td>\n",
       "    </tr>\n",
       "    <tr>\n",
       "      <th>3</th>\n",
       "      <td>https://www.huffpost.com/entry/funniest-parent...</td>\n",
       "      <td>The Funniest Tweets From Parents This Week (Se...</td>\n",
       "      <td>PARENTING</td>\n",
       "      <td>\"Accidentally put grown-up toothpaste on my to...</td>\n",
       "      <td>Caroline Bologna</td>\n",
       "      <td>2022-09-23</td>\n",
       "    </tr>\n",
       "    <tr>\n",
       "      <th>4</th>\n",
       "      <td>https://www.huffpost.com/entry/amy-cooper-lose...</td>\n",
       "      <td>Woman Who Called Cops On Black Bird-Watcher Lo...</td>\n",
       "      <td>U.S. NEWS</td>\n",
       "      <td>Amy Cooper accused investment firm Franklin Te...</td>\n",
       "      <td>Nina Golgowski</td>\n",
       "      <td>2022-09-22</td>\n",
       "    </tr>\n",
       "  </tbody>\n",
       "</table>\n",
       "</div>"
      ],
      "text/plain": [
       "                                                link  \\\n",
       "0  https://www.huffpost.com/entry/covid-boosters-...   \n",
       "1  https://www.huffpost.com/entry/american-airlin...   \n",
       "2  https://www.huffpost.com/entry/funniest-tweets...   \n",
       "3  https://www.huffpost.com/entry/funniest-parent...   \n",
       "4  https://www.huffpost.com/entry/amy-cooper-lose...   \n",
       "\n",
       "                                            headline   category  \\\n",
       "0  Over 4 Million Americans Roll Up Sleeves For O...  U.S. NEWS   \n",
       "1  American Airlines Flyer Charged, Banned For Li...  U.S. NEWS   \n",
       "2  23 Of The Funniest Tweets About Cats And Dogs ...     COMEDY   \n",
       "3  The Funniest Tweets From Parents This Week (Se...  PARENTING   \n",
       "4  Woman Who Called Cops On Black Bird-Watcher Lo...  U.S. NEWS   \n",
       "\n",
       "                                   short_description               authors  \\\n",
       "0  Health experts said it is too early to predict...  Carla K. Johnson, AP   \n",
       "1  He was subdued by passengers and crew when he ...        Mary Papenfuss   \n",
       "2  \"Until you have a dog you don't understand wha...         Elyse Wanshel   \n",
       "3  \"Accidentally put grown-up toothpaste on my to...      Caroline Bologna   \n",
       "4  Amy Cooper accused investment firm Franklin Te...        Nina Golgowski   \n",
       "\n",
       "        date  \n",
       "0 2022-09-23  \n",
       "1 2022-09-23  \n",
       "2 2022-09-23  \n",
       "3 2022-09-23  \n",
       "4 2022-09-22  "
      ]
     },
     "execution_count": 3,
     "metadata": {},
     "output_type": "execute_result"
    }
   ],
   "source": [
    "data.head()"
   ]
  },
  {
   "cell_type": "code",
   "execution_count": 4,
   "id": "f02d6231-bb4e-48e4-9924-738afcf4a2d0",
   "metadata": {},
   "outputs": [],
   "source": [
    "# CONSIDERING 50000 SAMPLES\n",
    "data = data.iloc[:50000, :].copy()"
   ]
  },
  {
   "cell_type": "code",
   "execution_count": 5,
   "id": "25f389aa-1b37-4340-8888-572992d2443d",
   "metadata": {},
   "outputs": [
    {
     "data": {
      "text/plain": [
       "POLITICS          17399\n",
       "ENTERTAINMENT      6508\n",
       "WORLD NEWS         3299\n",
       "QUEER VOICES       2035\n",
       "COMEDY             1934\n",
       "HEALTHY LIVING     1605\n",
       "BLACK VOICES       1498\n",
       "PARENTS            1390\n",
       "U.S. NEWS          1377\n",
       "THE WORLDPOST      1347\n",
       "WOMEN              1331\n",
       "MEDIA              1089\n",
       "SPORTS             1014\n",
       "WEIRD NEWS          883\n",
       "CRIME               842\n",
       "GREEN               634\n",
       "ARTS & CULTURE      611\n",
       "BUSINESS            606\n",
       "STYLE               595\n",
       "TASTE               587\n",
       "RELIGION            464\n",
       "IMPACT              453\n",
       "LATINO VOICES       419\n",
       "TRAVEL              370\n",
       "EDUCATION           293\n",
       "TECH                229\n",
       "SCIENCE             177\n",
       "STYLE & BEAUTY      165\n",
       "HOME & LIVING       125\n",
       "ENVIRONMENT         121\n",
       "WELLNESS            118\n",
       "FOOD & DRINK        114\n",
       "PARENTING           114\n",
       "COLLEGE              64\n",
       "MONEY                49\n",
       "CULTURE & ARTS       44\n",
       "GOOD NEWS            40\n",
       "WORLDPOST            35\n",
       "ARTS                 12\n",
       "FIFTY                 8\n",
       "WEDDINGS              2\n",
       "Name: category, dtype: int64"
      ]
     },
     "execution_count": 5,
     "metadata": {},
     "output_type": "execute_result"
    }
   ],
   "source": [
    "data.category.value_counts()"
   ]
  },
  {
   "cell_type": "code",
   "execution_count": 6,
   "id": "f4bca9e9-5a59-4769-a159-7ef81a34d06e",
   "metadata": {},
   "outputs": [],
   "source": [
    "data.to_parquet(os.path.join(\"..\", \"data\", \"text_data.parquet\"))"
   ]
  },
  {
   "cell_type": "code",
   "execution_count": 7,
   "id": "772cbf12-21d4-4381-a13a-78a82954207a",
   "metadata": {},
   "outputs": [],
   "source": [
    "data['description'] = data['headline'] + \" \" + data['short_description']"
   ]
  },
  {
   "cell_type": "code",
   "execution_count": 8,
   "id": "77d80def-4cd9-4bbc-b8bb-28d29cba3ee2",
   "metadata": {},
   "outputs": [],
   "source": [
    "data = data['description'].copy()"
   ]
  },
  {
   "cell_type": "code",
   "execution_count": 9,
   "id": "87fb1993-1a39-41f4-83db-92597572ee41",
   "metadata": {},
   "outputs": [
    {
     "data": {
      "text/plain": [
       "0        Over 4 Million Americans Roll Up Sleeves For O...\n",
       "1        American Airlines Flyer Charged, Banned For Li...\n",
       "2        23 Of The Funniest Tweets About Cats And Dogs ...\n",
       "3        The Funniest Tweets From Parents This Week (Se...\n",
       "4        Woman Who Called Cops On Black Bird-Watcher Lo...\n",
       "                               ...                        \n",
       "49995    GOP Elector Decides To Resign From Electoral C...\n",
       "49996    Dana Rohrabacher Really Doesn't Want To Lose T...\n",
       "49997    Why I Will Never Teach My Mannequin Kids The M...\n",
       "49998    Here's A Great Way To Explain What Transgender...\n",
       "49999    Powerful Photos Show The Scene At Standing Roc...\n",
       "Name: description, Length: 50000, dtype: object"
      ]
     },
     "execution_count": 9,
     "metadata": {},
     "output_type": "execute_result"
    }
   ],
   "source": [
    "data"
   ]
  },
  {
   "cell_type": "code",
   "execution_count": 10,
   "id": "99ac0786-bda3-4bd2-9922-3fc189a0aafe",
   "metadata": {},
   "outputs": [],
   "source": [
    "class TextPreprocessor:\n",
    "    def __init__(self, lemmatize: bool = True, remove_punct: bool = True, remove_digits: bool = True,\n",
    "                 remove_stop_words: bool = True,\n",
    "                 remove_short_words: bool = True, minlen: int = 1, maxlen: int = 1, top_p: float = None,\n",
    "                 bottom_p: float = None):\n",
    "        self.lemmatize = lemmatize\n",
    "        self.remove_punct = remove_punct\n",
    "        self.remove_digits = remove_digits\n",
    "        self.remove_stop_words = remove_stop_words\n",
    "        self.remove_short_words = remove_short_words\n",
    "        self.minlen = minlen\n",
    "        self.maxlen = maxlen\n",
    "        self.top_p = top_p\n",
    "        self.bottom_p = bottom_p\n",
    "        self.words_to_remove = []\n",
    "        self.stop_words = ['i', 'me', 'my', 'myself', 'we', 'our', 'ours', 'ourselves', 'you', \"you're\", \"you've\",\n",
    "                           \"you'll\", \"you'd\", 'your', 'yours', 'yourself', 'yourselves', 'he', 'him', 'his', 'himself',\n",
    "                           'she', \"she's\", 'her', 'hers', 'herself', 'it', \"it's\", 'its', 'itself', 'they', 'them',\n",
    "                           'their', 'theirs', 'themselves', 'what', 'which', 'who', 'whom', 'this', 'that', \"that'll\",\n",
    "                           'these', 'those', 'am', 'is', 'are', 'was', 'were', 'be', 'been', 'being', 'have', 'has',\n",
    "                           'had', 'having', 'do', 'does', 'did', 'doing', 'a', 'an', 'the', 'and', 'but', 'if', 'or',\n",
    "                           'because', 'as', 'until', 'while', 'of', 'at', 'by', 'for', 'with', 'about', 'against',\n",
    "                           'between', 'into', 'through', 'during', 'before', 'after', 'above', 'below', 'to', 'from',\n",
    "                           'up', 'down', 'in', 'out', 'on', 'off', 'over', 'under', 'again', 'further', 'then', 'once',\n",
    "                           'here', 'there', 'when', 'where', 'why', 'how', 'all', 'any', 'both', 'each', 'few', 'more',\n",
    "                           'most', 'other', 'some', 'such', 'no', 'nor', 'not', 'only', 'own', 'same', 'so', 'than',\n",
    "                           'too', 'very', 's', 't', 'can', 'will', 'just', 'don', \"don't\", 'should', \"should've\",\n",
    "                           'now', 'd', 'll', 'm', 'o', 're', 've', 'y', 'ain', 'aren', \"aren't\", 'couldn', \"couldn't\",\n",
    "                           'didn', \"didn't\", 'doesn', \"doesn't\", 'hadn', \"hadn't\", 'hasn', \"hasn't\", 'haven',\n",
    "                           \"haven't\", 'isn', \"isn't\", 'ma', 'mightn', \"mightn't\", 'mustn', \"mustn't\", 'needn',\n",
    "                           \"needn't\", 'shan', \"shan't\", 'shouldn', \"shouldn't\", 'wasn', \"wasn't\", 'weren', \"weren't\",\n",
    "                           'won', \"won't\", 'wouldn', \"wouldn't\"]\n",
    "\n",
    "    @staticmethod\n",
    "    def __remove_double_whitespaces(string: str):\n",
    "        return \" \".join(string.split())\n",
    "\n",
    "    @staticmethod\n",
    "    def __lemmatize(string_series: pd.Series):\n",
    "        nlp = spacy.load(os.path.join(\"..\", \"en_core_web_sm-3.4.1\"))\n",
    "\n",
    "        def str_lemmatize(string: str):\n",
    "            doc = nlp(string)\n",
    "            return \" \".join([token.lemma_ for token in doc])\n",
    "\n",
    "        return string_series.map(str_lemmatize)\n",
    "\n",
    "    def __remove_punct(self, string_series: pd.Series):\n",
    "        clean_string_series = string_series.str.replace(pat=f'[{string.punctuation}]', repl=\" \", regex=True).copy()\n",
    "        return clean_string_series.map(self.__remove_double_whitespaces)\n",
    "\n",
    "    def __remove_digits(self, string_series: pd.Series):\n",
    "        clean_string_series = string_series.str.replace(pat=r'\\d', repl=\" \", regex=True).copy()\n",
    "        return clean_string_series.map(self.__remove_double_whitespaces)\n",
    "\n",
    "    @staticmethod\n",
    "    def __remove_short_words(string_series: pd.Series, minlen: int = 1, maxlen: int = 1):\n",
    "        clean_string_series = string_series.map(lambda string: \" \".join([word for word in string.split() if\n",
    "                                                                         (len(word) > maxlen) or (len(word) < minlen)]))\n",
    "        return clean_string_series\n",
    "\n",
    "    def __remove_stop_words(self, string_series: pd.Series):\n",
    "        def str_remove_stop_words(string: str):\n",
    "            stops = self.stop_words\n",
    "            return \" \".join([token for token in string.split() if token not in stops])\n",
    "\n",
    "        return string_series.map(str_remove_stop_words)\n",
    "\n",
    "    def __remove_top_bottom_words(self, string_series: pd.Series, top_p: int = None,\n",
    "                                  bottom_p: int = None, dataset: str = 'train'):\n",
    "        if dataset == 'train':\n",
    "            if top_p is None:\n",
    "                top_p = 0\n",
    "            if bottom_p is None:\n",
    "                bottom_p = 0\n",
    "\n",
    "            if top_p > 0 or bottom_p > 0:\n",
    "                word_freq = pd.Series(\" \".join(string_series).split()).value_counts()\n",
    "                n_words = len(word_freq)\n",
    "\n",
    "            if top_p > 0:\n",
    "                self.words_to_remove.extend([*word_freq.index[: int(np.ceil(top_p * n_words))]])\n",
    "\n",
    "            if bottom_p > 0:\n",
    "                self.words_to_remove.extend([*word_freq.index[-int(np.ceil(bottom_p * n_words)):]])\n",
    "\n",
    "        if len(self.words_to_remove) == 0:\n",
    "            return string_series\n",
    "        else:\n",
    "            clean_string_series = string_series.map(lambda string: \" \".join([word for word in string.split()\n",
    "                                                                             if word not in self.words_to_remove]))\n",
    "            return clean_string_series\n",
    "\n",
    "    def preprocess(self, string_series: pd.Series, dataset: str = \"train\"):\n",
    "        string_series = string_series.str.lower().copy()\n",
    "        if self.lemmatize:\n",
    "            string_series = self.__lemmatize(string_series=string_series)\n",
    "        if self.remove_punct:\n",
    "            string_series = self.__remove_punct(string_series=string_series)\n",
    "        if self.remove_digits:\n",
    "            string_series = self.__remove_digits(string_series=string_series)\n",
    "        if self.remove_stop_words:\n",
    "            string_series = self.__remove_stop_words(string_series=string_series)\n",
    "        if self.remove_short_words:\n",
    "            string_series = self.__remove_short_words(string_series=string_series,\n",
    "                                                      minlen=self.minlen,\n",
    "                                                      maxlen=self.maxlen)\n",
    "        string_series = self.__remove_top_bottom_words(string_series=string_series,\n",
    "                                                       top_p=self.top_p,\n",
    "                                                       bottom_p=self.bottom_p, dataset=dataset)\n",
    "\n",
    "        string_series = string_series.str.strip().copy()\n",
    "        string_series.replace(to_replace=\"\", value=\"this is an empty message\", inplace=True)\n",
    "\n",
    "        return string_series"
   ]
  },
  {
   "cell_type": "code",
   "execution_count": 11,
   "id": "28cd8416-6b85-4a2c-8900-96eac5826528",
   "metadata": {},
   "outputs": [],
   "source": [
    "class TextVectorizer:\n",
    "    '''\n",
    "    Huggingface sentence transformers to extract sentence embeddings\n",
    "    '''\n",
    "    def vectorize(self, x: pd.Series, dataset: str = \"train\"):\n",
    "        x = x.copy()\n",
    "        model = SentenceTransformer('bert-base-nli-mean-tokens')\n",
    "        sen_embeddings = model.encode(x)\n",
    "        return sen_embeddings"
   ]
  },
  {
   "cell_type": "code",
   "execution_count": 12,
   "id": "f06deef0-4da6-4fa5-a397-6375c250cc0a",
   "metadata": {},
   "outputs": [],
   "source": [
    "class DimensionalityReduction:\n",
    "    '''\n",
    "    Reducing dimensions of sentence embeddings for quicker processing and less memory usage\n",
    "    '''\n",
    "    def __init__(self, n_components: int):\n",
    "        self.n_components = n_components\n",
    "        self.pca = None\n",
    "        self.tsvd = None\n",
    "        self.minmax = None\n",
    "        self.maxabs = None\n",
    "\n",
    "    def reduce_dimensions(self, x, dataset: str = \"train\"):\n",
    "        x = x.copy()\n",
    "        if not isinstance(x, pd.DataFrame) and not isinstance(x, np.ndarray):\n",
    "            if dataset == \"train\":\n",
    "                self.maxabs = MaxAbsScaler()\n",
    "                self.maxabs.fit(x)\n",
    "                x = self.maxabs.transform(x).copy()\n",
    "                self.tsvd = TruncatedSVD(n_components=self.n_components, random_state=42)\n",
    "                self.tsvd.fit(x)\n",
    "            if dataset != \"train\":\n",
    "                x = self.maxabs.transform(x).copy()\n",
    "            x = self.tsvd.transform(x).copy()\n",
    "        else:\n",
    "            if dataset == \"train\":\n",
    "                self.minmax = MinMaxScaler()\n",
    "                self.minmax.fit(x)\n",
    "                x = self.minmax.transform(x).copy()\n",
    "                self.pca = PCA(n_components=self.n_components, random_state=42)\n",
    "                self.pca.fit(x)\n",
    "            if dataset != \"train\":\n",
    "                x = self.minmax.transform(x).copy()\n",
    "            x = self.pca.transform(x).copy()\n",
    "        return x"
   ]
  },
  {
   "cell_type": "code",
   "execution_count": 13,
   "id": "e3834cdc-0877-4f21-b03e-8fd0539f4e9f",
   "metadata": {},
   "outputs": [],
   "source": [
    "class Cluster():\n",
    "    '''\n",
    "    Clustering the similar vectorized sentences together \n",
    "    '''\n",
    "    \n",
    "    def __init__(self, min_cluster:int = 2, max_cluster:int = 10, random_state:int = 42):\n",
    "        self.scaler = None\n",
    "        self.k = None\n",
    "        self.min_cluster = min_cluster\n",
    "        self.max_cluster = max_cluster\n",
    "        self.kmeans_model = None\n",
    "        self.random_state = random_state\n",
    "        \n",
    "    def __fit_scaler(self, X):\n",
    "        self.scaler = MinMaxScaler()\n",
    "        self.scaler.fit(X)\n",
    "        \n",
    "    def __find_best_k(self, X):\n",
    "        self.__fit_scaler(X)\n",
    "        X_scaled = self.scaler.transform(X)\n",
    "        silhouette_scores = []\n",
    "        for k in range(self.min_cluster, self.max_cluster + 1):\n",
    "            kmeans = KMeans(n_clusters=k, random_state=self.random_state)\n",
    "            kmeans.fit(X_scaled)\n",
    "            labels = kmeans.labels_\n",
    "            silhouette_scores.append(silhouette_score(X=X_scaled, labels=labels, random_state=self.random_state))\n",
    "        self.k = self.min_cluster + np.argmax(silhouette_scores)\n",
    "        \n",
    "    def fit(self, X):\n",
    "        self.__find_best_k(X)\n",
    "        self.kmeans_model = KMeans(n_clusters=self.k, random_state=self.random_state)\n",
    "        X_scaled = self.scaler.transform(X)\n",
    "        self.kmeans_model.fit(X_scaled)\n",
    "        \n",
    "        \n",
    "    def predict(self, X):\n",
    "        X_scaled = self.scaler.transform(X)\n",
    "        prediction = self.kmeans_model.predict(X_scaled)\n",
    "        return prediction\n",
    "    \n",
    "    def fit_predict(self, X):\n",
    "        self.fit(X)\n",
    "        self.predict(X)"
   ]
  },
  {
   "cell_type": "code",
   "execution_count": 14,
   "id": "57dcd1ca-a6f9-4c55-858c-27822084e743",
   "metadata": {},
   "outputs": [],
   "source": [
    "# TEXT PREPROCESSING\n",
    "text_preprocess = TextPreprocessor(lemmatize=False)\n",
    "preprocessed_text = text_preprocess.preprocess(data)"
   ]
  },
  {
   "cell_type": "code",
   "execution_count": 15,
   "id": "040fc63f-9cf0-4b7a-aa8d-b4c92d085011",
   "metadata": {},
   "outputs": [],
   "source": [
    "# SAVING PREPROCESSED TEXT AND PREPROCESS CLASS\n",
    "pd.DataFrame(preprocessed_text).to_parquet(os.path.join(\"..\", \"data\", \"preprocessed_text.parquet\"))\n",
    "with open(os.path.join(\"..\", \"models\", \"preprocessor.bin\"), \"wb\") as file:\n",
    "    cloudpickle.dump(text_preprocess, file)"
   ]
  },
  {
   "cell_type": "code",
   "execution_count": 16,
   "id": "b1d125de-6c34-402e-bc75-9bcaec949883",
   "metadata": {},
   "outputs": [
    {
     "data": {
      "text/plain": [
       "0        million americans roll sleeves omicron targete...\n",
       "1        american airlines flyer charged banned life pu...\n",
       "2        funniest tweets cats dogs week sept dog unders...\n",
       "3        funniest tweets parents week sept accidentally...\n",
       "4        woman called cops black bird watcher loses law...\n",
       "                               ...                        \n",
       "49995    gop elector decides resign electoral college t...\n",
       "49996    dana rohrabacher really want lose online poll ...\n",
       "49997    never teach mannequin kids mannequin challenge...\n",
       "49998    great way explain transgender means kids somet...\n",
       "49999    powerful photos show scene standing rock get c...\n",
       "Name: description, Length: 50000, dtype: object"
      ]
     },
     "execution_count": 16,
     "metadata": {},
     "output_type": "execute_result"
    }
   ],
   "source": [
    "# READING PREPROCESSED TEXT\n",
    "preprocessed_text = pd.read_parquet(os.path.join(\"..\", \"data\", \"preprocessed_text.parquet\")).squeeze(\"columns\")\n",
    "preprocessed_text"
   ]
  },
  {
   "cell_type": "code",
   "execution_count": 17,
   "id": "08dea55d-cb00-448b-8626-45bc934e4c2f",
   "metadata": {},
   "outputs": [],
   "source": [
    "# EXTRACTING SENTENCE EMBEDDINGS FROM HF SENTENCE TRANSFORMERS\n",
    "vectorizer = TextVectorizer()\n",
    "vectorized_text = vectorizer.vectorize(preprocessed_text)\n",
    "pd.DataFrame(vectorized_text, columns=[str(i) for i in range(vectorized_text.shape[1])]).to_parquet(os.path.join(\"..\", \"data\", \"vectorized_text.parquet\"))\n",
    "with open(os.path.join(\"..\", \"models\", \"vectorizer.bin\"), \"wb\") as file:\n",
    "    cloudpickle.dump(vectorizer, file)"
   ]
  },
  {
   "cell_type": "code",
   "execution_count": 18,
   "id": "653c111b-77c6-456c-af98-1d28d35182b2",
   "metadata": {},
   "outputs": [
    {
     "data": {
      "text/plain": [
       "(50000, 768)"
      ]
     },
     "execution_count": 18,
     "metadata": {},
     "output_type": "execute_result"
    }
   ],
   "source": [
    "vectorized_text.shape"
   ]
  },
  {
   "cell_type": "code",
   "execution_count": 19,
   "id": "1a4b1953-bc5a-439d-b572-239bb377355f",
   "metadata": {},
   "outputs": [
    {
     "data": {
      "text/html": [
       "<div>\n",
       "<style scoped>\n",
       "    .dataframe tbody tr th:only-of-type {\n",
       "        vertical-align: middle;\n",
       "    }\n",
       "\n",
       "    .dataframe tbody tr th {\n",
       "        vertical-align: top;\n",
       "    }\n",
       "\n",
       "    .dataframe thead th {\n",
       "        text-align: right;\n",
       "    }\n",
       "</style>\n",
       "<table border=\"1\" class=\"dataframe\">\n",
       "  <thead>\n",
       "    <tr style=\"text-align: right;\">\n",
       "      <th></th>\n",
       "      <th>0</th>\n",
       "      <th>1</th>\n",
       "      <th>2</th>\n",
       "      <th>3</th>\n",
       "      <th>4</th>\n",
       "      <th>5</th>\n",
       "      <th>6</th>\n",
       "      <th>7</th>\n",
       "      <th>8</th>\n",
       "      <th>9</th>\n",
       "      <th>...</th>\n",
       "      <th>758</th>\n",
       "      <th>759</th>\n",
       "      <th>760</th>\n",
       "      <th>761</th>\n",
       "      <th>762</th>\n",
       "      <th>763</th>\n",
       "      <th>764</th>\n",
       "      <th>765</th>\n",
       "      <th>766</th>\n",
       "      <th>767</th>\n",
       "    </tr>\n",
       "  </thead>\n",
       "  <tbody>\n",
       "    <tr>\n",
       "      <th>0</th>\n",
       "      <td>-0.348604</td>\n",
       "      <td>0.224791</td>\n",
       "      <td>0.587835</td>\n",
       "      <td>0.021539</td>\n",
       "      <td>0.936388</td>\n",
       "      <td>-0.522525</td>\n",
       "      <td>-0.265266</td>\n",
       "      <td>0.452338</td>\n",
       "      <td>0.633545</td>\n",
       "      <td>-0.628432</td>\n",
       "      <td>...</td>\n",
       "      <td>-0.349243</td>\n",
       "      <td>-0.645083</td>\n",
       "      <td>-0.749294</td>\n",
       "      <td>-0.639461</td>\n",
       "      <td>0.319237</td>\n",
       "      <td>-0.346626</td>\n",
       "      <td>-0.422148</td>\n",
       "      <td>-0.066128</td>\n",
       "      <td>0.750257</td>\n",
       "      <td>0.736668</td>\n",
       "    </tr>\n",
       "    <tr>\n",
       "      <th>1</th>\n",
       "      <td>0.100282</td>\n",
       "      <td>0.765578</td>\n",
       "      <td>0.619608</td>\n",
       "      <td>0.341304</td>\n",
       "      <td>0.055928</td>\n",
       "      <td>-0.463602</td>\n",
       "      <td>0.941963</td>\n",
       "      <td>-0.676753</td>\n",
       "      <td>0.383726</td>\n",
       "      <td>0.254634</td>\n",
       "      <td>...</td>\n",
       "      <td>-0.183254</td>\n",
       "      <td>-0.663993</td>\n",
       "      <td>-1.022537</td>\n",
       "      <td>-1.279540</td>\n",
       "      <td>0.105261</td>\n",
       "      <td>-0.593642</td>\n",
       "      <td>-0.250466</td>\n",
       "      <td>-0.168751</td>\n",
       "      <td>0.023353</td>\n",
       "      <td>-0.095318</td>\n",
       "    </tr>\n",
       "    <tr>\n",
       "      <th>2</th>\n",
       "      <td>-0.245373</td>\n",
       "      <td>1.005552</td>\n",
       "      <td>0.508761</td>\n",
       "      <td>-0.059529</td>\n",
       "      <td>-0.283023</td>\n",
       "      <td>-0.551248</td>\n",
       "      <td>0.604396</td>\n",
       "      <td>0.195050</td>\n",
       "      <td>-0.325778</td>\n",
       "      <td>-0.430899</td>\n",
       "      <td>...</td>\n",
       "      <td>-0.575232</td>\n",
       "      <td>-0.107071</td>\n",
       "      <td>-1.357987</td>\n",
       "      <td>-0.844127</td>\n",
       "      <td>0.355204</td>\n",
       "      <td>-1.226387</td>\n",
       "      <td>0.282177</td>\n",
       "      <td>0.297868</td>\n",
       "      <td>1.090589</td>\n",
       "      <td>0.810077</td>\n",
       "    </tr>\n",
       "    <tr>\n",
       "      <th>3</th>\n",
       "      <td>-0.299000</td>\n",
       "      <td>1.250460</td>\n",
       "      <td>0.430264</td>\n",
       "      <td>-0.075660</td>\n",
       "      <td>0.280682</td>\n",
       "      <td>-0.379261</td>\n",
       "      <td>0.966618</td>\n",
       "      <td>0.163225</td>\n",
       "      <td>0.390289</td>\n",
       "      <td>-0.179051</td>\n",
       "      <td>...</td>\n",
       "      <td>-0.659211</td>\n",
       "      <td>-0.672255</td>\n",
       "      <td>-1.593885</td>\n",
       "      <td>-0.902628</td>\n",
       "      <td>0.579351</td>\n",
       "      <td>-1.246761</td>\n",
       "      <td>0.198906</td>\n",
       "      <td>-0.040560</td>\n",
       "      <td>0.210218</td>\n",
       "      <td>0.688975</td>\n",
       "    </tr>\n",
       "    <tr>\n",
       "      <th>4</th>\n",
       "      <td>0.128596</td>\n",
       "      <td>0.724642</td>\n",
       "      <td>-0.521468</td>\n",
       "      <td>0.151441</td>\n",
       "      <td>0.767574</td>\n",
       "      <td>0.048907</td>\n",
       "      <td>0.960015</td>\n",
       "      <td>-0.063603</td>\n",
       "      <td>0.393527</td>\n",
       "      <td>0.529087</td>\n",
       "      <td>...</td>\n",
       "      <td>-0.584926</td>\n",
       "      <td>-0.758323</td>\n",
       "      <td>-1.717347</td>\n",
       "      <td>-1.232472</td>\n",
       "      <td>0.831796</td>\n",
       "      <td>-1.130401</td>\n",
       "      <td>-0.147202</td>\n",
       "      <td>-0.337285</td>\n",
       "      <td>0.019787</td>\n",
       "      <td>-0.144571</td>\n",
       "    </tr>\n",
       "  </tbody>\n",
       "</table>\n",
       "<p>5 rows × 768 columns</p>\n",
       "</div>"
      ],
      "text/plain": [
       "          0         1         2         3         4         5         6  \\\n",
       "0 -0.348604  0.224791  0.587835  0.021539  0.936388 -0.522525 -0.265266   \n",
       "1  0.100282  0.765578  0.619608  0.341304  0.055928 -0.463602  0.941963   \n",
       "2 -0.245373  1.005552  0.508761 -0.059529 -0.283023 -0.551248  0.604396   \n",
       "3 -0.299000  1.250460  0.430264 -0.075660  0.280682 -0.379261  0.966618   \n",
       "4  0.128596  0.724642 -0.521468  0.151441  0.767574  0.048907  0.960015   \n",
       "\n",
       "          7         8         9  ...       758       759       760       761  \\\n",
       "0  0.452338  0.633545 -0.628432  ... -0.349243 -0.645083 -0.749294 -0.639461   \n",
       "1 -0.676753  0.383726  0.254634  ... -0.183254 -0.663993 -1.022537 -1.279540   \n",
       "2  0.195050 -0.325778 -0.430899  ... -0.575232 -0.107071 -1.357987 -0.844127   \n",
       "3  0.163225  0.390289 -0.179051  ... -0.659211 -0.672255 -1.593885 -0.902628   \n",
       "4 -0.063603  0.393527  0.529087  ... -0.584926 -0.758323 -1.717347 -1.232472   \n",
       "\n",
       "        762       763       764       765       766       767  \n",
       "0  0.319237 -0.346626 -0.422148 -0.066128  0.750257  0.736668  \n",
       "1  0.105261 -0.593642 -0.250466 -0.168751  0.023353 -0.095318  \n",
       "2  0.355204 -1.226387  0.282177  0.297868  1.090589  0.810077  \n",
       "3  0.579351 -1.246761  0.198906 -0.040560  0.210218  0.688975  \n",
       "4  0.831796 -1.130401 -0.147202 -0.337285  0.019787 -0.144571  \n",
       "\n",
       "[5 rows x 768 columns]"
      ]
     },
     "execution_count": 19,
     "metadata": {},
     "output_type": "execute_result"
    }
   ],
   "source": [
    "# SAVING VECTORIZED SENTENCE DATA\n",
    "vectorized_text = pd.read_parquet(os.path.join(\"..\", \"data\", \"vectorized_text.parquet\"))\n",
    "vectorized_text.head()"
   ]
  },
  {
   "cell_type": "code",
   "execution_count": 20,
   "id": "d07aac98-1ca9-4886-bd27-1d6b08a3ab12",
   "metadata": {},
   "outputs": [
    {
     "data": {
      "text/plain": [
       "[<matplotlib.lines.Line2D at 0x23a020f0fd0>]"
      ]
     },
     "execution_count": 20,
     "metadata": {},
     "output_type": "execute_result"
    },
    {
     "data": {
      "image/png": "[encoded data removed]",
      "text/plain": [
       "<Figure size 640x480 with 1 Axes>"
      ]
     },
     "metadata": {},
     "output_type": "display_data"
    }
   ],
   "source": [
    "# REDUCING DIMENSIONS OF SENETENCE EMBEDDINGS (VECTORIZED SENTENCES) FROM 768 TO 150 FOR QUICKER PROCESSING\n",
    "dimensionality_reduction = DimensionalityReduction(n_components=150)\n",
    "pca_text = dimensionality_reduction.reduce_dimensions(vectorized_text)\n",
    "plt.plot(np.cumsum(dimensionality_reduction.pca.explained_variance_ratio_))"
   ]
  },
  {
   "cell_type": "code",
   "execution_count": 21,
   "id": "bf147e20-5485-49a3-b681-a382aa494137",
   "metadata": {},
   "outputs": [
    {
     "data": {
      "text/plain": [
       "0.91326797"
      ]
     },
     "execution_count": 21,
     "metadata": {},
     "output_type": "execute_result"
    }
   ],
   "source": [
    "np.cumsum(dimensionality_reduction.pca.explained_variance_ratio_)[-1] # explained variance ratio of 92.0"
   ]
  },
  {
   "cell_type": "code",
   "execution_count": 22,
   "id": "bbbfb8b0-b82e-4b1c-a0a0-af782663f31a",
   "metadata": {},
   "outputs": [],
   "source": [
    "# SAVING THE PCA COMPONENTS AND ALSO DIMENSIONALITY REDUCTION OBJECT\n",
    "pd.DataFrame(pca_text, columns=[str(i) for i in range(pca_text.shape[1])]).to_parquet(os.path.join(\"..\", \"data\", \"pca_text.parquet\"))\n",
    "with open(os.path.join(\"..\", \"models\", \"pca.bin\"), \"wb\") as file:\n",
    "    cloudpickle.dump(dimensionality_reduction, file)"
   ]
  },
  {
   "cell_type": "code",
   "execution_count": 23,
   "id": "96001d97-d90a-41af-b16b-3b9660cbfaa8",
   "metadata": {},
   "outputs": [],
   "source": [
    "# READING PCA COMPONENTS\n",
    "pca_text = pd.read_parquet(os.path.join(\"..\", \"data\", \"pca_text.parquet\"))"
   ]
  },
  {
   "cell_type": "code",
   "execution_count": 24,
   "id": "f7d5192a-c72b-4354-9af7-09979b004b4d",
   "metadata": {},
   "outputs": [
    {
     "data": {
      "text/plain": [
       "(50000, 150)"
      ]
     },
     "execution_count": 24,
     "metadata": {},
     "output_type": "execute_result"
    }
   ],
   "source": [
    "pca_text.shape"
   ]
  },
  {
   "cell_type": "code",
   "execution_count": 25,
   "id": "99a8db52-0592-43a2-9333-66b16aaf187c",
   "metadata": {},
   "outputs": [],
   "source": [
    "# SINCE THERE ARE 30 PROMINENT CLASSES, I'M CLUSTERING DATA INTO 30 CLUSTERS\n",
    "cluster = Cluster(min_cluster=30, max_cluster=30)\n",
    "cluster.fit(pca_text)"
   ]
  },
  {
   "cell_type": "code",
   "execution_count": 26,
   "id": "fa4500c0-7f85-4118-aa55-a70f10ada302",
   "metadata": {},
   "outputs": [],
   "source": [
    "# SAVING CLUSTERING OBJECT\n",
    "with open(os.path.join(\"..\", \"models\", \"clustering.bin\"), \"wb\") as file:\n",
    "    cloudpickle.dump(cluster, file)"
   ]
  },
  {
   "cell_type": "code",
   "execution_count": 27,
   "id": "fc69d182-c8b1-4285-bab4-9bdd880fb29d",
   "metadata": {},
   "outputs": [
    {
     "data": {
      "text/plain": [
       "(50000, 50000)"
      ]
     },
     "execution_count": 27,
     "metadata": {},
     "output_type": "execute_result"
    }
   ],
   "source": [
    "# PREDICTING CLUSTERS FOR TRAIN DATA\n",
    "clusters = cluster.predict(pca_text)\n",
    "len(clusters), len(pca_text)"
   ]
  },
  {
   "cell_type": "code",
   "execution_count": 28,
   "id": "97fd5ef6-8b4e-438c-9af3-01b43ece402f",
   "metadata": {},
   "outputs": [
    {
     "data": {
      "text/plain": [
       "30"
      ]
     },
     "execution_count": 28,
     "metadata": {},
     "output_type": "execute_result"
    }
   ],
   "source": [
    "len(set(clusters))"
   ]
  },
  {
   "cell_type": "code",
   "execution_count": 29,
   "id": "0135d002-c33c-4809-9591-2b27f4b84141",
   "metadata": {},
   "outputs": [
    {
     "data": {
      "text/plain": [
       "array([ 0,  1,  2,  3,  4,  5,  6,  7,  8,  9, 10, 11, 12, 13, 14, 15, 16,\n",
       "       17, 18, 19, 20, 21, 22, 23, 24, 25, 26, 27, 28, 29])"
      ]
     },
     "execution_count": 29,
     "metadata": {},
     "output_type": "execute_result"
    }
   ],
   "source": [
    "pd.Series(clusters).sort_values().unique()"
   ]
  },
  {
   "cell_type": "code",
   "execution_count": 30,
   "id": "6264cbd0-393b-486d-b4f1-2222d3733c83",
   "metadata": {},
   "outputs": [],
   "source": [
    "# TRAIN DATA READ THAT WAS PREVIOUSLY SAVED\n",
    "text_data = pd.read_parquet(os.path.join(\"..\", \"data\", \"text_data.parquet\"))"
   ]
  },
  {
   "cell_type": "code",
   "execution_count": 31,
   "id": "bf65a763-3659-4c60-b55f-d8480d6c64f4",
   "metadata": {},
   "outputs": [
    {
     "data": {
      "text/plain": [
       "50000"
      ]
     },
     "execution_count": 31,
     "metadata": {},
     "output_type": "execute_result"
    }
   ],
   "source": [
    "len(text_data)"
   ]
  },
  {
   "cell_type": "code",
   "execution_count": 32,
   "id": "3dba3801-a29a-475f-82ce-1cd3c8b2e851",
   "metadata": {},
   "outputs": [],
   "source": [
    "# ADDING CLUSTERS TO TRAIN SAMPLES SO THAT SAMPLES CAN BE FILTERED USING THE TEST SAMPLE CLUSTER\n",
    "text_data['cluster'] = clusters"
   ]
  },
  {
   "cell_type": "code",
   "execution_count": 33,
   "id": "931b8729-eba7-4b63-a9aa-6fbe27bd74b4",
   "metadata": {},
   "outputs": [],
   "source": [
    "text_data.to_parquet(os.path.join(\"..\", \"data\", \"text_data.parquet\"))"
   ]
  },
  {
   "cell_type": "code",
   "execution_count": 34,
   "id": "6801976d-597d-4d08-95e1-d1e76bdcec36",
   "metadata": {},
   "outputs": [
    {
     "data": {
      "text/plain": [
       "array([22, 25,  1,  8,  3, 24,  5, 19, 11, 26,  7,  6, 17, 29, 16,  0, 14,\n",
       "       27, 18, 21, 15, 13, 28,  4, 10,  2, 12,  9, 20, 23])"
      ]
     },
     "execution_count": 34,
     "metadata": {},
     "output_type": "execute_result"
    }
   ],
   "source": [
    "text_data['cluster'].unique()"
   ]
  },
  {
   "cell_type": "code",
   "execution_count": 35,
   "id": "c045db11-4016-4025-9827-0cdde88bdfd7",
   "metadata": {},
   "outputs": [
    {
     "data": {
      "text/html": [
       "<div>\n",
       "<style scoped>\n",
       "    .dataframe tbody tr th:only-of-type {\n",
       "        vertical-align: middle;\n",
       "    }\n",
       "\n",
       "    .dataframe tbody tr th {\n",
       "        vertical-align: top;\n",
       "    }\n",
       "\n",
       "    .dataframe thead th {\n",
       "        text-align: right;\n",
       "    }\n",
       "</style>\n",
       "<table border=\"1\" class=\"dataframe\">\n",
       "  <thead>\n",
       "    <tr style=\"text-align: right;\">\n",
       "      <th></th>\n",
       "      <th>link</th>\n",
       "      <th>headline</th>\n",
       "      <th>category</th>\n",
       "      <th>short_description</th>\n",
       "      <th>authors</th>\n",
       "      <th>date</th>\n",
       "      <th>cluster</th>\n",
       "    </tr>\n",
       "  </thead>\n",
       "  <tbody>\n",
       "    <tr>\n",
       "      <th>2</th>\n",
       "      <td>https://www.huffpost.com/entry/funniest-tweets...</td>\n",
       "      <td>23 Of The Funniest Tweets About Cats And Dogs ...</td>\n",
       "      <td>COMEDY</td>\n",
       "      <td>\"Until you have a dog you don't understand wha...</td>\n",
       "      <td>Elyse Wanshel</td>\n",
       "      <td>2022-09-23</td>\n",
       "      <td>1</td>\n",
       "    </tr>\n",
       "    <tr>\n",
       "      <th>38</th>\n",
       "      <td>https://www.huffpost.com/entry/african-land-sn...</td>\n",
       "      <td>German Customs Officials Follow Trail Of Slime...</td>\n",
       "      <td>WEIRD NEWS</td>\n",
       "      <td>“Never in the history of the Duesseldorf custo...</td>\n",
       "      <td></td>\n",
       "      <td>2022-09-16</td>\n",
       "      <td>1</td>\n",
       "    </tr>\n",
       "    <tr>\n",
       "      <th>104</th>\n",
       "      <td>https://www.huffpost.com/entry/bear-swimming-p...</td>\n",
       "      <td>Bear Spotted Chilling In California Swimming Pool</td>\n",
       "      <td>U.S. NEWS</td>\n",
       "      <td>\"He's welcome in my yard as long as he doesn't...</td>\n",
       "      <td>Josephine Harvey</td>\n",
       "      <td>2022-09-05</td>\n",
       "      <td>1</td>\n",
       "    </tr>\n",
       "    <tr>\n",
       "      <th>134</th>\n",
       "      <td>https://www.huffpost.com/entry/signs-of-teeth-...</td>\n",
       "      <td>6 Signs You’re Grinding Your Teeth At Night (A...</td>\n",
       "      <td>WELLNESS</td>\n",
       "      <td>Beyond toothaches, there are other common red ...</td>\n",
       "      <td>Jillian Wilson</td>\n",
       "      <td>2022-08-30</td>\n",
       "      <td>1</td>\n",
       "    </tr>\n",
       "    <tr>\n",
       "      <th>154</th>\n",
       "      <td>https://www.huffpost.com/entry/fisherman-prehi...</td>\n",
       "      <td>A Fisherman Thought He Caught A Rock. He Snagg...</td>\n",
       "      <td>WEIRD NEWS</td>\n",
       "      <td>The Nebraska man said he initially believed th...</td>\n",
       "      <td>Ben Blanchet</td>\n",
       "      <td>2022-08-27</td>\n",
       "      <td>1</td>\n",
       "    </tr>\n",
       "    <tr>\n",
       "      <th>...</th>\n",
       "      <td>...</td>\n",
       "      <td>...</td>\n",
       "      <td>...</td>\n",
       "      <td>...</td>\n",
       "      <td>...</td>\n",
       "      <td>...</td>\n",
       "      <td>...</td>\n",
       "    </tr>\n",
       "    <tr>\n",
       "      <th>49635</th>\n",
       "      <td>https://www.huffingtonpost.com/entry/gremlins-...</td>\n",
       "      <td>Gremlins And Leprechaun Join 'Fantastic Beasts...</td>\n",
       "      <td>COMEDY</td>\n",
       "      <td>Ghoulishly goofy.</td>\n",
       "      <td>Ron Dicker</td>\n",
       "      <td>2016-12-02</td>\n",
       "      <td>1</td>\n",
       "    </tr>\n",
       "    <tr>\n",
       "      <th>49642</th>\n",
       "      <td>https://www.huffingtonpost.com/entry/rural-cam...</td>\n",
       "      <td>Rural Cambodia Uses Guppy Fish To Fight Mosqui...</td>\n",
       "      <td>HEALTHY LIVING</td>\n",
       "      <td>Villagers keep the guppies in barrels of water...</td>\n",
       "      <td>Astrid Zweynert, Reuters</td>\n",
       "      <td>2016-12-02</td>\n",
       "      <td>1</td>\n",
       "    </tr>\n",
       "    <tr>\n",
       "      <th>49715</th>\n",
       "      <td>https://www.huffingtonpost.com/entry/sing-clip...</td>\n",
       "      <td>Watch A Koala And A Porcupine Sing 'Call Me Ma...</td>\n",
       "      <td>ENTERTAINMENT</td>\n",
       "      <td>It's a clip from the upcoming \"Sing.\"</td>\n",
       "      <td>Matthew Jacobs</td>\n",
       "      <td>2016-12-01</td>\n",
       "      <td>1</td>\n",
       "    </tr>\n",
       "    <tr>\n",
       "      <th>49930</th>\n",
       "      <td>https://www.huffingtonpost.com/entry/highly-co...</td>\n",
       "      <td>Highly Contagious Bird Flu Outbreak In Japan P...</td>\n",
       "      <td>HEALTHY LIVING</td>\n",
       "      <td>This is the country's first bird flu outbreak ...</td>\n",
       "      <td>Ayai Tomisawa and Osamu Tsukimori, Reuters</td>\n",
       "      <td>2016-11-29</td>\n",
       "      <td>1</td>\n",
       "    </tr>\n",
       "    <tr>\n",
       "      <th>49981</th>\n",
       "      <td>https://www.huffingtonpost.com/entry/farmers-p...</td>\n",
       "      <td>Farmers Push Back Against Animal Welfare Laws</td>\n",
       "      <td>POLITICS</td>\n",
       "      <td>Consumers increasingly are demanding farmers c...</td>\n",
       "      <td>Stateline, ContributorStateline provides daily...</td>\n",
       "      <td>2016-11-29</td>\n",
       "      <td>1</td>\n",
       "    </tr>\n",
       "  </tbody>\n",
       "</table>\n",
       "<p>970 rows × 7 columns</p>\n",
       "</div>"
      ],
      "text/plain": [
       "                                                    link  \\\n",
       "2      https://www.huffpost.com/entry/funniest-tweets...   \n",
       "38     https://www.huffpost.com/entry/african-land-sn...   \n",
       "104    https://www.huffpost.com/entry/bear-swimming-p...   \n",
       "134    https://www.huffpost.com/entry/signs-of-teeth-...   \n",
       "154    https://www.huffpost.com/entry/fisherman-prehi...   \n",
       "...                                                  ...   \n",
       "49635  https://www.huffingtonpost.com/entry/gremlins-...   \n",
       "49642  https://www.huffingtonpost.com/entry/rural-cam...   \n",
       "49715  https://www.huffingtonpost.com/entry/sing-clip...   \n",
       "49930  https://www.huffingtonpost.com/entry/highly-co...   \n",
       "49981  https://www.huffingtonpost.com/entry/farmers-p...   \n",
       "\n",
       "                                                headline        category  \\\n",
       "2      23 Of The Funniest Tweets About Cats And Dogs ...          COMEDY   \n",
       "38     German Customs Officials Follow Trail Of Slime...      WEIRD NEWS   \n",
       "104    Bear Spotted Chilling In California Swimming Pool       U.S. NEWS   \n",
       "134    6 Signs You’re Grinding Your Teeth At Night (A...        WELLNESS   \n",
       "154    A Fisherman Thought He Caught A Rock. He Snagg...      WEIRD NEWS   \n",
       "...                                                  ...             ...   \n",
       "49635  Gremlins And Leprechaun Join 'Fantastic Beasts...          COMEDY   \n",
       "49642  Rural Cambodia Uses Guppy Fish To Fight Mosqui...  HEALTHY LIVING   \n",
       "49715  Watch A Koala And A Porcupine Sing 'Call Me Ma...   ENTERTAINMENT   \n",
       "49930  Highly Contagious Bird Flu Outbreak In Japan P...  HEALTHY LIVING   \n",
       "49981      Farmers Push Back Against Animal Welfare Laws        POLITICS   \n",
       "\n",
       "                                       short_description  \\\n",
       "2      \"Until you have a dog you don't understand wha...   \n",
       "38     “Never in the history of the Duesseldorf custo...   \n",
       "104    \"He's welcome in my yard as long as he doesn't...   \n",
       "134    Beyond toothaches, there are other common red ...   \n",
       "154    The Nebraska man said he initially believed th...   \n",
       "...                                                  ...   \n",
       "49635                                  Ghoulishly goofy.   \n",
       "49642  Villagers keep the guppies in barrels of water...   \n",
       "49715              It's a clip from the upcoming \"Sing.\"   \n",
       "49930  This is the country's first bird flu outbreak ...   \n",
       "49981  Consumers increasingly are demanding farmers c...   \n",
       "\n",
       "                                                 authors       date  cluster  \n",
       "2                                          Elyse Wanshel 2022-09-23        1  \n",
       "38                                                       2022-09-16        1  \n",
       "104                                     Josephine Harvey 2022-09-05        1  \n",
       "134                                       Jillian Wilson 2022-08-30        1  \n",
       "154                                         Ben Blanchet 2022-08-27        1  \n",
       "...                                                  ...        ...      ...  \n",
       "49635                                         Ron Dicker 2016-12-02        1  \n",
       "49642                           Astrid Zweynert, Reuters 2016-12-02        1  \n",
       "49715                                     Matthew Jacobs 2016-12-01        1  \n",
       "49930         Ayai Tomisawa and Osamu Tsukimori, Reuters 2016-11-29        1  \n",
       "49981  Stateline, ContributorStateline provides daily... 2016-11-29        1  \n",
       "\n",
       "[970 rows x 7 columns]"
      ]
     },
     "execution_count": 35,
     "metadata": {},
     "output_type": "execute_result"
    }
   ],
   "source": [
    "text_data.loc[text_data['cluster'] == 1]"
   ]
  },
  {
   "cell_type": "code",
   "execution_count": null,
   "id": "60a674e4-0507-4bf3-850e-c2979d420e67",
   "metadata": {},
   "outputs": [],
   "source": []
  }
 ],
 "metadata": {
  "kernelspec": {
   "display_name": "Python 3 (ipykernel)",
   "language": "python",
   "name": "python3"
  },
  "language_info": {
   "codemirror_mode": {
    "name": "ipython",
    "version": 3
   },
   "file_extension": ".py",
   "mimetype": "text/x-python",
   "name": "python",
   "nbconvert_exporter": "python",
   "pygments_lexer": "ipython3",
   "version": "3.9.13"
  }
 },
 "nbformat": 4,
 "nbformat_minor": 5
}
